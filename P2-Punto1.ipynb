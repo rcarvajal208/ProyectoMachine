{
  "nbformat": 4,
  "nbformat_minor": 0,
  "metadata": {
    "colab": {
      "name": "Evaluacion2.ipynb",
      "provenance": [],
      "collapsed_sections": [],
      "toc_visible": true,
      "include_colab_link": true
    },
    "kernelspec": {
      "name": "python3",
      "display_name": "Python 3"
    },
    "accelerator": "GPU"
  },
  "cells": [
    {
      "cell_type": "markdown",
      "metadata": {
        "id": "view-in-github",
        "colab_type": "text"
      },
      "source": [
        "<a href=\"https://colab.research.google.com/github/rcarvajal208/ProyectoMachine/blob/master/P2-Punto1.ipynb\" target=\"_parent\"><img src=\"https://colab.research.google.com/assets/colab-badge.svg\" alt=\"Open In Colab\"/></a>"
      ]
    },
    {
      "cell_type": "markdown",
      "metadata": {
        "id": "L9fYVKd4NVmu",
        "colab_type": "text"
      },
      "source": [
        "#Se instalan e importan las librerias\n",
        "\n",
        "\n"
      ]
    },
    {
      "cell_type": "code",
      "metadata": {
        "id": "yROvyb7MXd68",
        "colab_type": "code",
        "outputId": "95d17db1-4643-426a-93bc-8903eff6f24c",
        "colab": {
          "base_uri": "https://localhost:8080/",
          "height": 74
        }
      },
      "source": [
        "pip install pyEDFlib"
      ],
      "execution_count": 38,
      "outputs": [
        {
          "output_type": "stream",
          "text": [
            "Requirement already satisfied: pyEDFlib in /usr/local/lib/python3.6/dist-packages (0.1.17)\n",
            "Requirement already satisfied: numpy>=1.9.1 in /usr/local/lib/python3.6/dist-packages (from pyEDFlib) (1.18.4)\n"
          ],
          "name": "stdout"
        }
      ]
    },
    {
      "cell_type": "code",
      "metadata": {
        "id": "xz5-2THvH9cZ",
        "colab_type": "code",
        "outputId": "551175ba-4a81-4732-885c-550643bfaf0f",
        "colab": {
          "base_uri": "https://localhost:8080/",
          "height": 55
        }
      },
      "source": [
        "from google.colab import drive\n",
        "drive.mount('/content/drive')"
      ],
      "execution_count": 39,
      "outputs": [
        {
          "output_type": "stream",
          "text": [
            "Drive already mounted at /content/drive; to attempt to forcibly remount, call drive.mount(\"/content/drive\", force_remount=True).\n"
          ],
          "name": "stdout"
        }
      ]
    },
    {
      "cell_type": "code",
      "metadata": {
        "id": "HMKeSkC6Xk8q",
        "colab_type": "code",
        "colab": {}
      },
      "source": [
        "\n",
        "import math\n",
        "import zipfile\n",
        "import pyedflib as pyedf\n",
        "import numpy as np \n",
        "import matplotlib.pyplot as plt\n",
        "from collections import Counter\n",
        "from imblearn.over_sampling import SMOTE\n",
        "from sklearn.metrics import confusion_matrix, classification_report\n",
        "from sklearn.model_selection import train_test_split\n",
        "from sklearn.decomposition import PCA\n",
        "from sklearn import preprocessing, model_selection\n",
        "from sklearn.preprocessing import LabelEncoder\n",
        "import keras \n",
        "from keras.utils import to_categorical, np_utils\n",
        "from keras.models import Sequential,Input,Model\n",
        "from keras.layers import Dense, Dropout, Flatten\n",
        "from keras.layers import Conv2D, MaxPooling2D\n",
        "from keras.layers.normalization import BatchNormalization\n",
        "from keras.layers.advanced_activations import LeakyReLU\n",
        "from imblearn.under_sampling import RandomUnderSampler"
      ],
      "execution_count": 0,
      "outputs": []
    },
    {
      "cell_type": "markdown",
      "metadata": {
        "id": "ZOEm0GIAJt64",
        "colab_type": "text"
      },
      "source": [
        "#Se cargan los datos"
      ]
    },
    {
      "cell_type": "code",
      "metadata": {
        "id": "KFZSFT3LXnxM",
        "colab_type": "code",
        "colab": {}
      },
      "source": [
        "sleep_cassette=zipfile.ZipFile(\"drive/My Drive/sleep-cassette.zip\", mode=\"r\")\n",
        "sleep_cassette.extractall(None)"
      ],
      "execution_count": 0,
      "outputs": []
    },
    {
      "cell_type": "code",
      "metadata": {
        "id": "Wb3CduJSXqEE",
        "colab_type": "code",
        "outputId": "43b83a7e-ceea-4bd4-d43d-cbda7ecf566c",
        "colab": {
          "base_uri": "https://localhost:8080/",
          "height": 55
        }
      },
      "source": [
        "data_sleep_cassette = sleep_cassette.namelist()\n",
        "print(data_sleep_cassette)"
      ],
      "execution_count": 42,
      "outputs": [
        {
          "output_type": "stream",
          "text": [
            "['sleep-cassette/', 'sleep-cassette/SC4001E0-PSG.edf', 'sleep-cassette/SC4001EC-Hypnogram.edf', 'sleep-cassette/SC4002E0-PSG.edf', 'sleep-cassette/SC4002EC-Hypnogram.edf', 'sleep-cassette/SC4011E0-PSG.edf', 'sleep-cassette/SC4011EH-Hypnogram.edf', 'sleep-cassette/SC4012E0-PSG.edf', 'sleep-cassette/SC4012EC-Hypnogram.edf', 'sleep-cassette/SC4021E0-PSG.edf', 'sleep-cassette/SC4021EH-Hypnogram.edf', 'sleep-cassette/SC4022E0-PSG.edf', 'sleep-cassette/SC4022EJ-Hypnogram.edf', 'sleep-cassette/SC4031E0-PSG.edf', 'sleep-cassette/SC4031EC-Hypnogram.edf', 'sleep-cassette/SC4032E0-PSG.edf', 'sleep-cassette/SC4032EP-Hypnogram.edf', 'sleep-cassette/SC4041E0-PSG.edf', 'sleep-cassette/SC4041EC-Hypnogram.edf', 'sleep-cassette/SC4042E0-PSG.edf', 'sleep-cassette/SC4042EC-Hypnogram.edf', 'sleep-cassette/SC4051E0-PSG.edf', 'sleep-cassette/SC4051EC-Hypnogram.edf', 'sleep-cassette/SC4052E0-PSG.edf', 'sleep-cassette/SC4052EC-Hypnogram.edf', 'sleep-cassette/SC4061E0-PSG.edf', 'sleep-cassette/SC4061EC-Hypnogram.edf', 'sleep-cassette/SC4062E0-PSG.edf', 'sleep-cassette/SC4062EC-Hypnogram.edf', 'sleep-cassette/SC4071E0-PSG.edf', 'sleep-cassette/SC4071EC-Hypnogram.edf', 'sleep-cassette/SC4072E0-PSG.edf', 'sleep-cassette/SC4072EH-Hypnogram.edf', 'sleep-cassette/SC4081E0-PSG.edf', 'sleep-cassette/SC4081EC-Hypnogram.edf', 'sleep-cassette/SC4082E0-PSG.edf', 'sleep-cassette/SC4082EP-Hypnogram.edf', 'sleep-cassette/SC4091E0-PSG.edf', 'sleep-cassette/SC4091EC-Hypnogram.edf', 'sleep-cassette/SC4092E0-PSG.edf', 'sleep-cassette/SC4092EC-Hypnogram.edf', 'sleep-cassette/SC4101E0-PSG.edf', 'sleep-cassette/SC4101EC-Hypnogram.edf', 'sleep-cassette/SC4102E0-PSG.edf', 'sleep-cassette/SC4102EC-Hypnogram.edf', 'sleep-cassette/SC4111E0-PSG.edf', 'sleep-cassette/SC4111EC-Hypnogram.edf', 'sleep-cassette/SC4112E0-PSG.edf', 'sleep-cassette/SC4112EC-Hypnogram.edf', 'sleep-cassette/SC4121E0-PSG.edf', 'sleep-cassette/SC4121EC-Hypnogram.edf', 'sleep-cassette/SC4122E0-PSG.edf', 'sleep-cassette/SC4122EV-Hypnogram.edf', 'sleep-cassette/SC4131E0-PSG.edf', 'sleep-cassette/SC4131EC-Hypnogram.edf', 'sleep-cassette/SC4141E0-PSG.edf', 'sleep-cassette/SC4141EU-Hypnogram.edf', 'sleep-cassette/SC4142E0-PSG.edf', 'sleep-cassette/SC4142EU-Hypnogram.edf', 'sleep-cassette/SC4151E0-PSG.edf', 'sleep-cassette/SC4151EC-Hypnogram.edf', 'sleep-cassette/SC4152E0-PSG.edf', 'sleep-cassette/SC4152EC-Hypnogram.edf', 'sleep-cassette/SC4161E0-PSG.edf', 'sleep-cassette/SC4161EC-Hypnogram.edf', 'sleep-cassette/SC4162E0-PSG.edf', 'sleep-cassette/SC4162EC-Hypnogram.edf', 'sleep-cassette/SC4171E0-PSG.edf', 'sleep-cassette/SC4171EU-Hypnogram.edf', 'sleep-cassette/SC4172E0-PSG.edf', 'sleep-cassette/SC4172EC-Hypnogram.edf', 'sleep-cassette/SC4181E0-PSG.edf', 'sleep-cassette/SC4181EC-Hypnogram.edf', 'sleep-cassette/SC4182E0-PSG.edf', 'sleep-cassette/SC4182EC-Hypnogram.edf', 'sleep-cassette/SC4191E0-PSG.edf', 'sleep-cassette/SC4191EP-Hypnogram.edf', 'sleep-cassette/SC4192E0-PSG.edf', 'sleep-cassette/SC4192EV-Hypnogram.edf', 'sleep-cassette/SC4201E0-PSG.edf', 'sleep-cassette/SC4201EC-Hypnogram.edf', 'sleep-cassette/SC4202E0-PSG.edf', 'sleep-cassette/SC4202EC-Hypnogram.edf', 'sleep-cassette/SC4211E0-PSG.edf', 'sleep-cassette/SC4211EC-Hypnogram.edf', 'sleep-cassette/SC4212E0-PSG.edf', 'sleep-cassette/SC4212EC-Hypnogram.edf', 'sleep-cassette/SC4221E0-PSG.edf', 'sleep-cassette/SC4221EJ-Hypnogram.edf', 'sleep-cassette/SC4222E0-PSG.edf', 'sleep-cassette/SC4222EC-Hypnogram.edf', 'sleep-cassette/SC4231E0-PSG.edf', 'sleep-cassette/SC4231EJ-Hypnogram.edf', 'sleep-cassette/SC4232E0-PSG.edf', 'sleep-cassette/SC4232EV-Hypnogram.edf', 'sleep-cassette/SC4241E0-PSG.edf', 'sleep-cassette/SC4241EC-Hypnogram.edf', 'sleep-cassette/SC4242E0-PSG.edf', 'sleep-cassette/SC4242EA-Hypnogram.edf', 'sleep-cassette/SC4251E0-PSG.edf', 'sleep-cassette/SC4251EP-Hypnogram.edf', 'sleep-cassette/SC4252E0-PSG.edf', 'sleep-cassette/SC4252EU-Hypnogram.edf', 'sleep-cassette/SC4261F0-PSG.edf', 'sleep-cassette/SC4261FM-Hypnogram.edf', 'sleep-cassette/SC4262F0-PSG.edf', 'sleep-cassette/SC4262FC-Hypnogram.edf', 'sleep-cassette/SC4271F0-PSG.edf', 'sleep-cassette/SC4271FC-Hypnogram.edf', 'sleep-cassette/SC4272F0-PSG.edf', 'sleep-cassette/SC4272FM-Hypnogram.edf', 'sleep-cassette/SC4281G0-PSG.edf', 'sleep-cassette/SC4281GC-Hypnogram.edf', 'sleep-cassette/SC4282G0-PSG.edf', 'sleep-cassette/SC4282GC-Hypnogram.edf', 'sleep-cassette/SC4291G0-PSG.edf', 'sleep-cassette/SC4291GA-Hypnogram.edf', 'sleep-cassette/SC4292G0-PSG.edf', 'sleep-cassette/SC4292GC-Hypnogram.edf', 'sleep-cassette/SC4301E0-PSG.edf', 'sleep-cassette/SC4301EC-Hypnogram.edf', 'sleep-cassette/SC4302E0-PSG.edf', 'sleep-cassette/SC4302EV-Hypnogram.edf', 'sleep-cassette/SC4311E0-PSG.edf', 'sleep-cassette/SC4311EC-Hypnogram.edf', 'sleep-cassette/SC4312E0-PSG.edf', 'sleep-cassette/SC4312EM-Hypnogram.edf', 'sleep-cassette/SC4321E0-PSG.edf', 'sleep-cassette/SC4321EC-Hypnogram.edf', 'sleep-cassette/SC4322E0-PSG.edf', 'sleep-cassette/SC4322EC-Hypnogram.edf', 'sleep-cassette/SC4331F0-PSG.edf', 'sleep-cassette/SC4331FV-Hypnogram.edf', 'sleep-cassette/SC4332F0-PSG.edf', 'sleep-cassette/SC4332FC-Hypnogram.edf', 'sleep-cassette/SC4341F0-PSG.edf', 'sleep-cassette/SC4341FA-Hypnogram.edf', 'sleep-cassette/SC4342F0-PSG.edf', 'sleep-cassette/SC4342FA-Hypnogram.edf', 'sleep-cassette/SC4351F0-PSG.edf', 'sleep-cassette/SC4351FA-Hypnogram.edf', 'sleep-cassette/SC4352F0-PSG.edf', 'sleep-cassette/SC4352FV-Hypnogram.edf', 'sleep-cassette/SC4362F0-PSG.edf', 'sleep-cassette/SC4362FC-Hypnogram.edf', 'sleep-cassette/SC4371F0-PSG.edf', 'sleep-cassette/SC4371FA-Hypnogram.edf', 'sleep-cassette/SC4372F0-PSG.edf', 'sleep-cassette/SC4372FC-Hypnogram.edf', 'sleep-cassette/SC4381F0-PSG.edf', 'sleep-cassette/SC4381FC-Hypnogram.edf', 'sleep-cassette/SC4382F0-PSG.edf', 'sleep-cassette/SC4382FW-Hypnogram.edf', 'sleep-cassette/SC4401E0-PSG.edf', 'sleep-cassette/SC4401EC-Hypnogram.edf', 'sleep-cassette/SC4402E0-PSG.edf', 'sleep-cassette/SC4402EW-Hypnogram.edf', 'sleep-cassette/SC4411E0-PSG.edf', 'sleep-cassette/SC4411EJ-Hypnogram.edf', 'sleep-cassette/SC4412E0-PSG.edf', 'sleep-cassette/SC4412EM-Hypnogram.edf', 'sleep-cassette/SC4421E0-PSG.edf', 'sleep-cassette/SC4421EA-Hypnogram.edf', 'sleep-cassette/SC4422E0-PSG.edf', 'sleep-cassette/SC4422EA-Hypnogram.edf', 'sleep-cassette/SC4431E0-PSG.edf', 'sleep-cassette/SC4431EM-Hypnogram.edf', 'sleep-cassette/SC4432E0-PSG.edf', 'sleep-cassette/SC4432EM-Hypnogram.edf', 'sleep-cassette/SC4441E0-PSG.edf', 'sleep-cassette/SC4441EC-Hypnogram.edf', 'sleep-cassette/SC4442E0-PSG.edf', 'sleep-cassette/SC4442EV-Hypnogram.edf', 'sleep-cassette/SC4451F0-PSG.edf', 'sleep-cassette/SC4451FY-Hypnogram.edf', 'sleep-cassette/SC4452F0-PSG.edf', 'sleep-cassette/SC4452FW-Hypnogram.edf', 'sleep-cassette/SC4461F0-PSG.edf', 'sleep-cassette/SC4461FA-Hypnogram.edf', 'sleep-cassette/SC4462F0-PSG.edf', 'sleep-cassette/SC4462FJ-Hypnogram.edf', 'sleep-cassette/SC4471F0-PSG.edf', 'sleep-cassette/SC4471FA-Hypnogram.edf', 'sleep-cassette/SC4472F0-PSG.edf', 'sleep-cassette/SC4472FA-Hypnogram.edf', 'sleep-cassette/SC4481F0-PSG.edf', 'sleep-cassette/SC4481FV-Hypnogram.edf', 'sleep-cassette/SC4482F0-PSG.edf', 'sleep-cassette/SC4482FJ-Hypnogram.edf', 'sleep-cassette/SC4491G0-PSG.edf', 'sleep-cassette/SC4491GJ-Hypnogram.edf', 'sleep-cassette/SC4492G0-PSG.edf', 'sleep-cassette/SC4492GJ-Hypnogram.edf', 'sleep-cassette/SC4501E0-PSG.edf', 'sleep-cassette/SC4501EW-Hypnogram.edf', 'sleep-cassette/SC4502E0-PSG.edf', 'sleep-cassette/SC4502EM-Hypnogram.edf', 'sleep-cassette/SC4511E0-PSG.edf', 'sleep-cassette/SC4511EJ-Hypnogram.edf', 'sleep-cassette/SC4512E0-PSG.edf', 'sleep-cassette/SC4512EW-Hypnogram.edf', 'sleep-cassette/SC4522E0-PSG.edf', 'sleep-cassette/SC4522EM-Hypnogram.edf', 'sleep-cassette/SC4531E0-PSG.edf', 'sleep-cassette/SC4531EM-Hypnogram.edf', 'sleep-cassette/SC4532E0-PSG.edf', 'sleep-cassette/SC4532EV-Hypnogram.edf', 'sleep-cassette/SC4541F0-PSG.edf', 'sleep-cassette/SC4541FA-Hypnogram.edf', 'sleep-cassette/SC4542F0-PSG.edf', 'sleep-cassette/SC4542FW-Hypnogram.edf', 'sleep-cassette/SC4551F0-PSG.edf', 'sleep-cassette/SC4551FC-Hypnogram.edf', 'sleep-cassette/SC4552F0-PSG.edf', 'sleep-cassette/SC4552FW-Hypnogram.edf', 'sleep-cassette/SC4561F0-PSG.edf', 'sleep-cassette/SC4561FJ-Hypnogram.edf', 'sleep-cassette/SC4562F0-PSG.edf', 'sleep-cassette/SC4562FJ-Hypnogram.edf', 'sleep-cassette/SC4571F0-PSG.edf', 'sleep-cassette/SC4571FV-Hypnogram.edf', 'sleep-cassette/SC4572F0-PSG.edf', 'sleep-cassette/SC4572FC-Hypnogram.edf', 'sleep-cassette/SC4581G0-PSG.edf', 'sleep-cassette/SC4581GM-Hypnogram.edf', 'sleep-cassette/SC4582G0-PSG.edf', 'sleep-cassette/SC4582GP-Hypnogram.edf', 'sleep-cassette/SC4591G0-PSG.edf', 'sleep-cassette/SC4591GY-Hypnogram.edf', 'sleep-cassette/SC4592G0-PSG.edf', 'sleep-cassette/SC4592GY-Hypnogram.edf', 'sleep-cassette/SC4601E0-PSG.edf', 'sleep-cassette/SC4601EC-Hypnogram.edf', 'sleep-cassette/SC4602E0-PSG.edf', 'sleep-cassette/SC4602EJ-Hypnogram.edf', 'sleep-cassette/SC4611E0-PSG.edf', 'sleep-cassette/SC4611EG-Hypnogram.edf', 'sleep-cassette/SC4612E0-PSG.edf', 'sleep-cassette/SC4612EA-Hypnogram.edf', 'sleep-cassette/SC4621E0-PSG.edf', 'sleep-cassette/SC4621EV-Hypnogram.edf', 'sleep-cassette/SC4622E0-PSG.edf', 'sleep-cassette/SC4622EJ-Hypnogram.edf', 'sleep-cassette/SC4631E0-PSG.edf', 'sleep-cassette/SC4631EM-Hypnogram.edf', 'sleep-cassette/SC4632E0-PSG.edf', 'sleep-cassette/SC4632EA-Hypnogram.edf', 'sleep-cassette/SC4641E0-PSG.edf', 'sleep-cassette/SC4641EP-Hypnogram.edf', 'sleep-cassette/SC4642E0-PSG.edf', 'sleep-cassette/SC4642EP-Hypnogram.edf', 'sleep-cassette/SC4651E0-PSG.edf', 'sleep-cassette/SC4651EP-Hypnogram.edf', 'sleep-cassette/SC4652E0-PSG.edf', 'sleep-cassette/SC4652EG-Hypnogram.edf', 'sleep-cassette/SC4661E0-PSG.edf', 'sleep-cassette/SC4661EJ-Hypnogram.edf', 'sleep-cassette/SC4662E0-PSG.edf', 'sleep-cassette/SC4662EJ-Hypnogram.edf', 'sleep-cassette/SC4671G0-PSG.edf', 'sleep-cassette/SC4671GJ-Hypnogram.edf', 'sleep-cassette/SC4672G0-PSG.edf', 'sleep-cassette/SC4672GV-Hypnogram.edf', 'sleep-cassette/SC4701E0-PSG.edf', 'sleep-cassette/SC4701EC-Hypnogram.edf', 'sleep-cassette/SC4702E0-PSG.edf', 'sleep-cassette/SC4702EA-Hypnogram.edf', 'sleep-cassette/SC4711E0-PSG.edf', 'sleep-cassette/SC4711EC-Hypnogram.edf', 'sleep-cassette/SC4712E0-PSG.edf', 'sleep-cassette/SC4712EA-Hypnogram.edf', 'sleep-cassette/SC4721E0-PSG.edf', 'sleep-cassette/SC4721EC-Hypnogram.edf', 'sleep-cassette/SC4722E0-PSG.edf', 'sleep-cassette/SC4722EM-Hypnogram.edf', 'sleep-cassette/SC4731E0-PSG.edf', 'sleep-cassette/SC4731EM-Hypnogram.edf', 'sleep-cassette/SC4732E0-PSG.edf', 'sleep-cassette/SC4732EJ-Hypnogram.edf', 'sleep-cassette/SC4741E0-PSG.edf', 'sleep-cassette/SC4741EA-Hypnogram.edf', 'sleep-cassette/SC4742E0-PSG.edf', 'sleep-cassette/SC4742EC-Hypnogram.edf', 'sleep-cassette/SC4751E0-PSG.edf', 'sleep-cassette/SC4751EC-Hypnogram.edf', 'sleep-cassette/SC4752E0-PSG.edf', 'sleep-cassette/SC4752EM-Hypnogram.edf', 'sleep-cassette/SC4761E0-PSG.edf', 'sleep-cassette/SC4761EP-Hypnogram.edf', 'sleep-cassette/SC4762E0-PSG.edf', 'sleep-cassette/SC4762EG-Hypnogram.edf', 'sleep-cassette/SC4771G0-PSG.edf', 'sleep-cassette/SC4771GC-Hypnogram.edf', 'sleep-cassette/SC4772G0-PSG.edf', 'sleep-cassette/SC4772GC-Hypnogram.edf', 'sleep-cassette/SC4801G0-PSG.edf', 'sleep-cassette/SC4801GC-Hypnogram.edf', 'sleep-cassette/SC4802G0-PSG.edf', 'sleep-cassette/SC4802GV-Hypnogram.edf', 'sleep-cassette/SC4811G0-PSG.edf', 'sleep-cassette/SC4811GG-Hypnogram.edf', 'sleep-cassette/SC4812G0-PSG.edf', 'sleep-cassette/SC4812GV-Hypnogram.edf', 'sleep-cassette/SC4821G0-PSG.edf', 'sleep-cassette/SC4821GC-Hypnogram.edf', 'sleep-cassette/SC4822G0-PSG.edf', 'sleep-cassette/SC4822GC-Hypnogram.edf']\n"
          ],
          "name": "stdout"
        }
      ]
    },
    {
      "cell_type": "markdown",
      "metadata": {
        "id": "DoOfqHBdLRxV",
        "colab_type": "text"
      },
      "source": [
        "#Se definen las variables 'X' y 'y'"
      ]
    },
    {
      "cell_type": "code",
      "metadata": {
        "id": "MkPd11Mo3hlF",
        "colab_type": "code",
        "outputId": "6574dafa-15a1-43be-d001-e155655a8f92",
        "colab": {
          "base_uri": "https://localhost:8080/",
          "height": 90
        }
      },
      "source": [
        "#Se inicializan las variables y equitas\n",
        "X=[]\n",
        "Y=[]\n",
        "y=[]\n",
        "label1='Despierto'\n",
        "label2='Sueño Ligero'\n",
        "label3='Sueño Profundo'\n",
        "label4='Sueño REM'\n",
        "#Se recorre el archivo zip para extraer sus datos\n",
        "for i in range(1, 20): \n",
        "  i_psg=2*i-1\n",
        "  i_hyp=2*i\n",
        "  st_FileHypEdf = pyedf.EdfReader(data_sleep_cassette[i_hyp])\n",
        "  st_FileEdf = pyedf.EdfReader(data_sleep_cassette[i_psg])\n",
        "  #Etiquetas\n",
        "  v_HypTime, v_HypDur, v_Hyp = st_FileHypEdf.readAnnotations()\n",
        "  \n",
        "  s_SigNum = st_FileEdf.signals_in_file\n",
        "  v_Signal_Labels = st_FileEdf.getSignalLabels()\n",
        "\n",
        "  #Canal 1\n",
        "  # Conversion a segundos usando frecuencia de muestreo.\n",
        "  s_SigRef1 = 0\n",
        "  s_NSamples1 = st_FileEdf.getNSamples()[0]\n",
        "  s_FsHz1 = st_FileEdf.getSampleFrequency(s_SigRef1)\n",
        "\n",
        "  # v_Sig = np.zeros((s_NSamples, 1))\n",
        "  v_Sig1 = st_FileEdf.readSignal(0)\n",
        "  v_Time1 = np.arange(0, s_NSamples1) / s_FsHz1\n",
        "\n",
        "  #Canal 2\n",
        "  # Conversion a segundos usando frecuencia de muestreo.\n",
        "  s_SigRef2 = 1\n",
        "  s_NSamples2 = st_FileEdf.getNSamples()[1]\n",
        "  s_FsHz2 = st_FileEdf.getSampleFrequency(s_SigRef2)\n",
        "\n",
        "  # v_Sig = np.zeros((s_NSamples, 1))\n",
        "  v_Sig2 = st_FileEdf.readSignal(1)\n",
        "  v_Time2 = np.arange(0, s_NSamples2) / s_FsHz2\n",
        "\n",
        "  #Canal 3\n",
        "  # Conversion a segundos usando frecuencia de muestreo.\n",
        "  s_SigRef3 = 2\n",
        "  s_NSamples3 = st_FileEdf.getNSamples()[2]\n",
        "  s_FsHz3 = st_FileEdf.getSampleFrequency(s_SigRef3)\n",
        "\n",
        "  # v_Sig = np.zeros((s_NSamples, 1))\n",
        "  v_Sig3 = st_FileEdf.readSignal(2)\n",
        "  v_Time3 = np.arange(0, s_NSamples3) / s_FsHz3\n",
        "\n",
        "  #Se actualizan las variables del loop principal\n",
        "  dato_final=0\n",
        "  dato_inicio=0\n",
        "  k=0\n",
        "  m=0\n",
        "  #Se recorren los distintos atepas de sueño para construir los vectores de X y Y\n",
        "  for i in v_HypDur:\n",
        "    mark=False\n",
        "    #Se verifica la etapa del sueño\n",
        "    if v_Hyp[k]=='Sleep stage W':\n",
        "      label=label1\n",
        "      l=0\n",
        "      mark=True\n",
        "    elif v_Hyp[k]=='Sleep stage 1' or v_Hyp[k]=='Sleep stage 2':\n",
        "      label=label2\n",
        "      l=1\n",
        "      mark=True\n",
        "    elif v_Hyp[k]=='Sleep stage 3' or v_Hyp[k]=='Sleep stage 4':\n",
        "      label=label3\n",
        "      l=2\n",
        "      mark=True\n",
        "    elif v_Hyp[k]=='Sleep stage R':\n",
        "      label=label4\n",
        "      l=3\n",
        "      mark=True\n",
        "    #Se organizan los datos que construyen a X\n",
        "    dato_final=int(i*100+dato_inicio)\n",
        "    dato1=v_Sig1[dato_inicio:dato_final]\n",
        "    dato2=v_Sig2[dato_inicio:dato_final]\n",
        "    dato3=v_Sig3[dato_inicio:dato_final]\n",
        "    dato=np.array([dato1,dato2,dato3])\n",
        "    if int(dato.shape[1]/500)>3000:\n",
        "      dato=dato[:,0:int(dato.shape[1]/2)]\n",
        "      matriz=dato.reshape(int(dato.shape[1]/500),3, 500).astype(np.float32)\n",
        "    else:\n",
        "      matriz=dato.reshape(int(dato.shape[1]/500), 3, 500).astype(np.float32)\n",
        "    #Se agregan los datos y etiquetas a las variables X y Y\n",
        "    if mark==True:\n",
        "      for j in range(len(matriz)):\n",
        "        X.append(matriz[j])\n",
        "        Y.append(label)\n",
        "        y.append(l)\n",
        "    #Se actualizan las variables del loop interno\n",
        "    dato_inicio=dato_final\n",
        "    k=k+1\n",
        "#Se imprimen la información de Y  \n",
        "print(Y.count(label1),'Despierto')\n",
        "print(Y.count(label2),'Sueño ligero')\n",
        "print(Y.count(label3),'Sueño profundo')\n",
        "print(Y.count(label4),'Sueño REM') \n"
      ],
      "execution_count": 43,
      "outputs": [
        {
          "output_type": "stream",
          "text": [
            "111819 Despierto\n",
            "60138 Sueño ligero\n",
            "17802 Sueño profundo\n",
            "20568 Sueño REM\n"
          ],
          "name": "stdout"
        }
      ]
    },
    {
      "cell_type": "markdown",
      "metadata": {
        "id": "mIwca_jqqf7x",
        "colab_type": "text"
      },
      "source": [
        "Hacemos un subsampling de los datos para reducir la cantidad de información de la primera variable e igualarla a la de la segunda variable más grande"
      ]
    },
    {
      "cell_type": "code",
      "metadata": {
        "id": "ZEa-BzD9SrET",
        "colab_type": "code",
        "outputId": "a5c6c24b-61e6-4d19-aeb7-282c794a6f5c",
        "colab": {
          "base_uri": "https://localhost:8080/",
          "height": 237
        }
      },
      "source": [
        "#Se realiza el subsampling de los datos\n",
        "X = np.array(X)\n",
        "n_samples, h, w = X.shape \n",
        "X_re = X.reshape((n_samples,h*w))\n",
        "X_re = preprocessing.scale(X_re)\n",
        "num=range(len(Y))\n",
        "X_data = []\n",
        "Y_data = []\n",
        "X_data2 = []\n",
        "Y_data2 = []\n",
        "for i in num:\n",
        "  if Y[i]==label1 or Y[i]==label2:\n",
        "    X_data.append(X_re[i])\n",
        "    Y_data.append(Y[i])\n",
        "  else:\n",
        "    X_data2.append(X_re[i])\n",
        "    Y_data2.append(Y[i])\n",
        "\n",
        "# define undersample strategy\n",
        "undersample = RandomUnderSampler(sampling_strategy='majority')\n",
        "# fit and apply the transform\n",
        "x_over, y_over = undersample.fit_resample(X_data, Y_data)\n",
        "\n",
        "x_subsampling = list(x_over)\n",
        "y_subsampling = list(y_over)\n",
        "num2=range(len(X_data2))\n",
        "for i in num2:\n",
        "  x_subsampling.append(X_data2[i])\n",
        "  y_subsampling.append(Y_data2[i])\n",
        "\n",
        "print(y_subsampling.count(label1),'Despierto')\n",
        "print(y_subsampling.count(label2),'Sueño ligero')\n",
        "print(y_subsampling.count(label3),'Sueño profundo')\n",
        "print(y_subsampling.count(label4),'Sueño REM')\n",
        "print(\"Total número de datos: \", len(x_subsampling))\n",
        "x_subsampling = np.array(x_subsampling)"
      ],
      "execution_count": 44,
      "outputs": [
        {
          "output_type": "stream",
          "text": [
            "/usr/local/lib/python3.6/dist-packages/sklearn/preprocessing/_data.py:173: UserWarning: Numerical issues were encountered when centering the data and might not be solved. Dataset may contain too large values. You may need to prescale your features.\n",
            "  warnings.warn(\"Numerical issues were encountered \"\n",
            "/usr/local/lib/python3.6/dist-packages/sklearn/preprocessing/_data.py:190: UserWarning: Numerical issues were encountered when scaling the data and might not be solved. The standard deviation of the data is probably very close to 0. \n",
            "  warnings.warn(\"Numerical issues were encountered \"\n",
            "/usr/local/lib/python3.6/dist-packages/sklearn/utils/deprecation.py:87: FutureWarning: Function safe_indexing is deprecated; safe_indexing is deprecated in version 0.22 and will be removed in version 0.24.\n",
            "  warnings.warn(msg, category=FutureWarning)\n"
          ],
          "name": "stderr"
        },
        {
          "output_type": "stream",
          "text": [
            "60138 Despierto\n",
            "60138 Sueño ligero\n",
            "17802 Sueño profundo\n",
            "20568 Sueño REM\n",
            "Total número de datos:  158646\n"
          ],
          "name": "stdout"
        }
      ]
    },
    {
      "cell_type": "code",
      "metadata": {
        "id": "7I-uPvPMeVZg",
        "colab_type": "code",
        "colab": {}
      },
      "source": [
        "# encode class values as integers\n",
        "encoder = LabelEncoder()\n",
        "encoder.fit(y_subsampling)\n",
        "encoded_Y = encoder.transform(y_subsampling)\n",
        "# convert integers to dummy variables (i.e. one hot encoded)\n",
        "Y_categorical = np_utils.to_categorical(encoded_Y)"
      ],
      "execution_count": 0,
      "outputs": []
    },
    {
      "cell_type": "markdown",
      "metadata": {
        "id": "eno0dMvLJz7p",
        "colab_type": "text"
      },
      "source": [
        "#Preprocesamiento de datos\n",
        "\n",
        "\n",
        "1.   Se realiza el conjunto de entrenamiento al tomar el 70% de los datos totales.\n",
        "2.   Se realiza el conjunto de validación al tomar el 10% de los datos de entrenamiento.\n",
        "\n"
      ]
    },
    {
      "cell_type": "code",
      "metadata": {
        "id": "593x9HKD2feD",
        "colab_type": "code",
        "outputId": "787ecaea-2020-4522-def8-3e8cb834a411",
        "colab": {
          "base_uri": "https://localhost:8080/",
          "height": 108
        }
      },
      "source": [
        "#Se definen los porcentajes de entrenamiento y validación\n",
        "porcentajeEntrenamiento = 0.7\n",
        "porcentajeValidación = 0.9\n",
        "#Se determinan los datos de entrenamiento, prueba y validación\n",
        "x_entrenamiento0, x_prueba0, y_entrenamiento0, y_prueba = model_selection.train_test_split(x_subsampling, Y_categorical, test_size=1-porcentajeEntrenamiento)\n",
        "x_entrenamiento0, x_validacion0, y_entrenamiento0, y_validacion = model_selection.train_test_split(x_entrenamiento0, y_entrenamiento0, test_size=1-porcentajeValidación)\n",
        "#Se imprimen las dimenciones de las variables\n",
        "print(Y_categorical.shape,'Y_categorical')\n",
        "print(x_subsampling.shape,'x_subsampling')\n",
        "print(x_entrenamiento0.shape,'x_entrenamiento0')\n",
        "print(x_validacion0.shape,'x_validacion0')\n",
        "print(x_prueba0.shape,'x_prueba0')"
      ],
      "execution_count": 46,
      "outputs": [
        {
          "output_type": "stream",
          "text": [
            "(158646, 4) Y_categorical\n",
            "(158646, 1500) x_subsampling\n",
            "(99946, 1500) x_entrenamiento0\n",
            "(11106, 1500) x_validacion0\n",
            "(47594, 1500) x_prueba0\n"
          ],
          "name": "stdout"
        }
      ]
    },
    {
      "cell_type": "markdown",
      "metadata": {
        "id": "_SBWbbDqHdRR",
        "colab_type": "text"
      },
      "source": [
        "#Creación de Descriptores\n",
        "Se utiliza PCA para encontrar los descriptores que agrupan más del 80% de la información de la variabilidad en las variables de entrada"
      ]
    },
    {
      "cell_type": "code",
      "metadata": {
        "id": "8VKg2jkUJsQE",
        "colab_type": "code",
        "outputId": "0e99bff8-cf6f-4b57-d6be-9425b09483d9",
        "colab": {
          "base_uri": "https://localhost:8080/",
          "height": 72
        }
      },
      "source": [
        "#Se define el número de descriptores\n",
        "n_components = 200\n",
        "#Se reduce la cantidad de dimenciones al número especificado por n_components \n",
        "pca = PCA(n_components=n_components, svd_solver='auto', whiten=True).fit(x_entrenamiento0)\n",
        "#Se actualizan las variables de entrenamiento y validación con base en pca\n",
        "x_entrenamiento_pca = pca.transform(x_entrenamiento0)\n",
        "x_validacion = pca.transform(x_validacion0)\n",
        "x_prueba = pca.transform(x_prueba0)\n",
        "#Se imprimen las dimenciones de las variables\n",
        "print(x_entrenamiento_pca.shape,'x_entrenamiento_pca')\n",
        "print(x_validacion.shape,'x_validacion') \n",
        "print(x_prueba.shape,'x_prueba')"
      ],
      "execution_count": 47,
      "outputs": [
        {
          "output_type": "stream",
          "text": [
            "(99946, 200) x_entrenamiento_pca\n",
            "(11106, 200) x_validacion\n",
            "(47594, 200) x_prueba\n"
          ],
          "name": "stdout"
        }
      ]
    },
    {
      "cell_type": "markdown",
      "metadata": {
        "id": "wIg9BKvqsJOC",
        "colab_type": "text"
      },
      "source": [
        "#Porcentaje de variación de los descriptores"
      ]
    },
    {
      "cell_type": "markdown",
      "metadata": {
        "id": "Mk9zyhOgrZ04",
        "colab_type": "text"
      },
      "source": [
        "Observamos cual es la variabilidad de los principales 4 descriptores e identificamos el total de variabilidad que se agrupó finalmente"
      ]
    },
    {
      "cell_type": "code",
      "metadata": {
        "id": "sY22vyz7qrJt",
        "colab_type": "code",
        "outputId": "016cebfc-870c-4919-b08f-eb8b3c6a36c5",
        "colab": {
          "base_uri": "https://localhost:8080/",
          "height": 331
        }
      },
      "source": [
        "percent_variance = np.round(pca.explained_variance_ratio_*100, decimals =2)\n",
        "print('Porcentajes%:', percent_variance[0:4])\n",
        "print('Porcentaje_Total%:',sum(percent_variance))\n",
        "columns = ['pca1', 'pca2','pca3', 'pca4']\n",
        "plt.bar(x= range(1,5), height=percent_variance[0:4], tick_label=columns)\n",
        "plt.ylabel('Porcentaje de variación')\n",
        "plt.xlabel('Componentes principales')\n",
        "plt.title('Porcentaje de variación de los descriptores')\n",
        "plt.show()"
      ],
      "execution_count": 48,
      "outputs": [
        {
          "output_type": "stream",
          "text": [
            "Porcentajes%: [6.28 6.22 5.71 5.67]\n",
            "Porcentaje_Total%: 96.13999999999992\n"
          ],
          "name": "stdout"
        },
        {
          "output_type": "display_data",
          "data": {
            "image/png": "[encoded data removed]",
            "text/plain": [
              "<Figure size 432x288 with 1 Axes>"
            ]
          },
          "metadata": {
            "tags": [],
            "needs_background": "light"
          }
        }
      ]
    },
    {
      "cell_type": "markdown",
      "metadata": {
        "id": "LdEmJ-u-40ws",
        "colab_type": "text"
      },
      "source": [
        "#Se crea la red neuronal\n",
        "\n",
        "\n",
        "1.   La red neuronal se realizará a partir de keras\n",
        "2.   La red va a ser de tipo sequencial, para poder trabajar con diferentes capas, que se encarguen de diferentes numerós de neuronas y funciones de activación.\n",
        "3.   La primera capa es la capa de entrada de la red, la cual cuenta con un numero de neuranas igual al número total de descriptores. Tambien se especifica que su activación es de tipo relu.\n",
        "4.   A continuación se utiliza Dropout, para igualar a 0 un pequeño porcentaje de la información y con esto evitar overfitting en el entrenamiento.\n",
        "5.   A continuación esta la capa central, esta cuenta con tres capas conectadas. Las cuales tienen diferentes funciones de activación, entre ellas estan las tipo relu y softmax.\n",
        "6.   Nuevamente utilizamos Dropout para evitar overfitting.\n",
        "7.   La capa siguiente corresponde a la capa de salida, esta capa tiene un número de neuronas igual al número de salidas de la red. Ademas de que, tiene una función de activación tipo softmax, con el fin de trabajar a partir de probabilidades\n",
        "9.  Por ultimo se realiza la compilación de la red, la cual cuenta con:\n",
        "      1.  Entropia cruzada como función de error, dado que estamos haciendo un clasificador.\n",
        "      2.  Un algoritmo de optimización tipo Adam.\n",
        "      3.  La tasa de aprendisaje se fijo en 0.0015, luego de varias pruebas.\n",
        "      4.  Ademas tambien se indica que debe retornar el porcentaje de aciertos del entrenamiento.\n"
      ]
    },
    {
      "cell_type": "code",
      "metadata": {
        "id": "D5XkFU76n9ZZ",
        "colab_type": "code",
        "colab": {}
      },
      "source": [
        "#Función que crea la red neuronal con base en el número de neuronas de cada una de sus capas\n",
        "def crearRed(nInicial, nCentral, nSalida):\n",
        "  #Se crea la red sequencial\n",
        "  RedNeuronal = Sequential()\n",
        "  #Se crea la capa de entrada\n",
        "  RedNeuronal.add(Dense(nInicial, activation='relu')) \n",
        "  RedNeuronal.add(Dropout(0.5))  \n",
        "  #Se crea la capa central de clasificación\n",
        "  RedNeuronal.add(Dense(nCentral, activation='relu'))  \n",
        "  RedNeuronal.add(Dense(nCentral, activation='softmax'))  \n",
        "  RedNeuronal.add(Dense(nCentral, activation='relu'))  \n",
        "  RedNeuronal.add(Dropout(0.5)) \n",
        "  #Se crea la capa de salida\n",
        "  RedNeuronal.add(Dense(nSalida, activation='softmax')) \n",
        "  #Se compila la red\n",
        "  tasa = 0.0015\n",
        "  RedNeuronal.compile(loss=keras.losses.categorical_crossentropy, optimizer=keras.optimizers.Adam(lr=tasa), metrics=['accuracy'])\n",
        "  #Se retorna la red creada\n",
        "  return RedNeuronal"
      ],
      "execution_count": 0,
      "outputs": []
    },
    {
      "cell_type": "markdown",
      "metadata": {
        "colab_type": "text",
        "id": "Qp5FgPKLLP6n"
      },
      "source": [
        "#Se selecciona la red neuronal de prueba\n",
        "\n",
        "1.   Se va a tomar la red con las neuronas [nInicial, 50, nSalida], dado que se obseró que este número de neuronas en la capacentral, entrega buenos resultados.\n",
        "2.   Se entrena la red con los datos de en trenamiento y esto luego de 20 epochs.\n",
        "\n"
      ]
    },
    {
      "cell_type": "code",
      "metadata": {
        "colab_type": "code",
        "outputId": "c66b8639-0505-4d3b-c52f-a6c26919ea53",
        "id": "yjEQFe05LYHq",
        "colab": {
          "base_uri": "https://localhost:8080/",
          "height": 745
        }
      },
      "source": [
        "#Se crea la red neuronal\n",
        "nInicial = n_components\n",
        "nSalida = Y_categorical.shape[1]\n",
        "RedNeuronal = crearRed(nInicial, 50, nSalida) \n",
        "#Se entrena la red\n",
        "fit = RedNeuronal.fit(x_entrenamiento_pca, y_entrenamiento0, batch_size=64, epochs=20, verbose=1)"
      ],
      "execution_count": 50,
      "outputs": [
        {
          "output_type": "stream",
          "text": [
            "Epoch 1/20\n",
            "99946/99946 [==============================] - 6s 59us/step - loss: 1.0988 - accuracy: 0.5286\n",
            "Epoch 2/20\n",
            "99946/99946 [==============================] - 6s 57us/step - loss: 1.0385 - accuracy: 0.5438\n",
            "Epoch 3/20\n",
            "99946/99946 [==============================] - 6s 55us/step - loss: 1.0203 - accuracy: 0.5528\n",
            "Epoch 4/20\n",
            "99946/99946 [==============================] - 6s 55us/step - loss: 1.0054 - accuracy: 0.5590\n",
            "Epoch 5/20\n",
            "99946/99946 [==============================] - 6s 56us/step - loss: 0.9933 - accuracy: 0.5665\n",
            "Epoch 6/20\n",
            "99946/99946 [==============================] - 6s 55us/step - loss: 0.9852 - accuracy: 0.5696\n",
            "Epoch 7/20\n",
            "99946/99946 [==============================] - 6s 55us/step - loss: 0.9746 - accuracy: 0.5781\n",
            "Epoch 8/20\n",
            "99946/99946 [==============================] - 6s 55us/step - loss: 0.9663 - accuracy: 0.5814\n",
            "Epoch 9/20\n",
            "99946/99946 [==============================] - 6s 56us/step - loss: 0.9579 - accuracy: 0.5898\n",
            "Epoch 10/20\n",
            "99946/99946 [==============================] - 6s 56us/step - loss: 0.9508 - accuracy: 0.5936\n",
            "Epoch 11/20\n",
            "99946/99946 [==============================] - 6s 56us/step - loss: 0.9448 - accuracy: 0.5980\n",
            "Epoch 12/20\n",
            "99946/99946 [==============================] - 6s 55us/step - loss: 0.9381 - accuracy: 0.6008\n",
            "Epoch 13/20\n",
            "99946/99946 [==============================] - 6s 55us/step - loss: 0.9332 - accuracy: 0.6044\n",
            "Epoch 14/20\n",
            "99946/99946 [==============================] - 5s 55us/step - loss: 0.9266 - accuracy: 0.6067\n",
            "Epoch 15/20\n",
            "99946/99946 [==============================] - 6s 55us/step - loss: 0.9197 - accuracy: 0.6092\n",
            "Epoch 16/20\n",
            "99946/99946 [==============================] - 6s 55us/step - loss: 0.9124 - accuracy: 0.6132\n",
            "Epoch 17/20\n",
            "99946/99946 [==============================] - 6s 56us/step - loss: 0.9057 - accuracy: 0.6153\n",
            "Epoch 18/20\n",
            "99946/99946 [==============================] - 6s 56us/step - loss: 0.9011 - accuracy: 0.6178\n",
            "Epoch 19/20\n",
            "99946/99946 [==============================] - 6s 55us/step - loss: 0.8951 - accuracy: 0.6214\n",
            "Epoch 20/20\n",
            "99946/99946 [==============================] - 6s 55us/step - loss: 0.8900 - accuracy: 0.6217\n"
          ],
          "name": "stdout"
        }
      ]
    },
    {
      "cell_type": "markdown",
      "metadata": {
        "colab_type": "text",
        "id": "3NeL1TRQLrii"
      },
      "source": [
        "#Matriz de confusión y validación de red\n"
      ]
    },
    {
      "cell_type": "code",
      "metadata": {
        "colab_type": "code",
        "id": "5B0JEt9nLz3i",
        "outputId": "c922fc7a-2641-4613-df19-6a9595fa13fb",
        "colab": {
          "base_uri": "https://localhost:8080/",
          "height": 290
        }
      },
      "source": [
        "y_obtenido = RedNeuronal.predict_classes(x_prueba)\n",
        "N_datos = y_prueba.shape[0]\n",
        "i = 0\n",
        "y_true = []\n",
        "y_pred = []\n",
        "while(i<N_datos):\n",
        "  y_true.append(np.argmax(y_prueba[i]))\n",
        "  y_pred.append(y_obtenido[i])\n",
        "  i = i+1\n",
        "matriz_confusion = confusion_matrix(y_true, y_pred)\n",
        "print(matriz_confusion)\n",
        "print (classification_report(y_true, y_pred))"
      ],
      "execution_count": 51,
      "outputs": [
        {
          "output_type": "stream",
          "text": [
            "[[12208  5559   415    20]\n",
            " [ 2698 14851   473    39]\n",
            " [ 1287  2117  1861     5]\n",
            " [ 1731  4253    25    52]]\n",
            "              precision    recall  f1-score   support\n",
            "\n",
            "           0       0.68      0.67      0.68     18202\n",
            "           1       0.55      0.82      0.66     18061\n",
            "           2       0.67      0.35      0.46      5270\n",
            "           3       0.45      0.01      0.02      6061\n",
            "\n",
            "    accuracy                           0.61     47594\n",
            "   macro avg       0.59      0.46      0.45     47594\n",
            "weighted avg       0.60      0.61      0.56     47594\n",
            "\n"
          ],
          "name": "stdout"
        }
      ]
    },
    {
      "cell_type": "markdown",
      "metadata": {
        "id": "gs-xM4Y5G9Dr",
        "colab_type": "text"
      },
      "source": [
        "#Balanceo de datos\n",
        "En la anterior matriz de confunción observamos que la red no esta teniendo en cuenta la ultima variable, dado que esta cuenta con muy pocos datos. Por ende procedemos a realizar un oversampling de las clases con menor catidad de datos."
      ]
    },
    {
      "cell_type": "code",
      "metadata": {
        "id": "2DQwAf3DdmFw",
        "colab_type": "code",
        "colab": {}
      },
      "source": [
        "num=list(range(len(y_validacion)))\n",
        "y_valid_classes=[]\n",
        "for i in num:\n",
        "  y_valid_classes.append(np.argmax(y_validacion[i]))"
      ],
      "execution_count": 0,
      "outputs": []
    },
    {
      "cell_type": "code",
      "metadata": {
        "id": "ybTu3cB2HB0_",
        "colab_type": "code",
        "outputId": "de3594d5-ef69-450a-8ab2-a04e1c52684f",
        "colab": {
          "base_uri": "https://localhost:8080/",
          "height": 165
        }
      },
      "source": [
        "#Subsampling de la clase principal\n",
        "#x_entrenamiento_subSample, y_entrenamiento_subSample = subsampling(x_entrenamiento_pca, y_entrenamiento0)\n",
        "#Oversampling de las clases minoritarias\n",
        "remuestrear = SMOTE('not majority') \n",
        "x_entrenamiento, y_entrenamiento = remuestrear.fit_sample(x_entrenamiento_pca, y_entrenamiento0)\n",
        "print(x_entrenamiento.shape,'x_entrenamiento')"
      ],
      "execution_count": 53,
      "outputs": [
        {
          "output_type": "stream",
          "text": [
            "/usr/local/lib/python3.6/dist-packages/sklearn/utils/deprecation.py:87: FutureWarning: Function safe_indexing is deprecated; safe_indexing is deprecated in version 0.22 and will be removed in version 0.24.\n",
            "  warnings.warn(msg, category=FutureWarning)\n",
            "/usr/local/lib/python3.6/dist-packages/sklearn/utils/deprecation.py:87: FutureWarning: Function safe_indexing is deprecated; safe_indexing is deprecated in version 0.22 and will be removed in version 0.24.\n",
            "  warnings.warn(msg, category=FutureWarning)\n",
            "/usr/local/lib/python3.6/dist-packages/sklearn/utils/deprecation.py:87: FutureWarning: Function safe_indexing is deprecated; safe_indexing is deprecated in version 0.22 and will be removed in version 0.24.\n",
            "  warnings.warn(msg, category=FutureWarning)\n"
          ],
          "name": "stderr"
        },
        {
          "output_type": "stream",
          "text": [
            "(151192, 200) x_entrenamiento\n"
          ],
          "name": "stdout"
        }
      ]
    },
    {
      "cell_type": "markdown",
      "metadata": {
        "id": "LxOVgkA-Ic1T",
        "colab_type": "text"
      },
      "source": [
        "#Validación de número de neuronas\n",
        "\n",
        "\n",
        "1.   Se van a realizar pruebas de 50 en 50 en las capas centrales de la red, para determinar cual de estas funciona mejor.\n",
        "2.   La capa de entrada esta restringida al numero de descriptores de la entrada.\n",
        "3.   La capa de salida esta restringida al número de clases totales.\n",
        "4.   Por otro lado aquí se presentara una relación entre el numero de neuronas y la tasa de acierto de la red para 10 epoch. Junto con una tabla para cada red en la que se indican los resultados para cada clase.\n",
        "\n"
      ]
    },
    {
      "cell_type": "code",
      "metadata": {
        "id": "rT7PEn1boR67",
        "colab_type": "code",
        "outputId": "e14137cb-5c5c-44fc-9f12-5e3e7cd76546",
        "colab": {
          "base_uri": "https://localhost:8080/",
          "height": 1000
        }
      },
      "source": [
        "#Se crea el vector con el número de neuronas\n",
        "neuronas = [50, 100, 150, 200, 250, 300, 350, 400, 450, 500] \n",
        "acuraccy_bar=[]\n",
        "j=0\n",
        "#Se recorre la capa central\n",
        "while(j<len(neuronas)):\n",
        "  #Se crea y valida la red neuronal\n",
        "  class_weights = np.array([0.1,0.1,1.0,j*1.0])\n",
        "  RedNeuronal = crearRed(nInicial, neuronas[7], nSalida)\n",
        "  #fit = RedNeuronal.fit(x_entrenamiento, y_entrenamiento, class_weight='balanced', batch_size=64, epochs=10, verbose=0)\n",
        "  fit = RedNeuronal.fit(x_entrenamiento, y_entrenamiento, class_weight=class_weights, batch_size=64, epochs=10, verbose=0)\n",
        "  score1, accuracy1 = RedNeuronal.evaluate(x_validacion, y_validacion, batch_size=50)\n",
        "  y_predict = RedNeuronal.predict_classes(x_validacion)\n",
        "  acuraccy_bar.append(accuracy1*100)\n",
        "  target_names=['Despierto', 'Sueño ligero', 'Sueño profundo', 'Sueño REM']\n",
        "  print(classification_report(y_valid_classes, y_predict, target_names=target_names))\n",
        "  print(\"Precisión: \", accuracy1*100, \"% ,\", \"Neuronas: \", '[',nInicial,',',neuronas[j],',',nSalida,']')\n",
        "  j += 1\n",
        "plt.bar (np.arange(1,len(acuraccy_bar)+1), acuraccy_bar, align = 'center' , alpha = 0.5 ) \n",
        "plt.ylim(50, 100)\n",
        "plt.ylabel ( 'Exactitud (%)' ) \n",
        "plt.xlabel('Número de neuronas')\n",
        "plt.title ( 'Exactitud al evaluar el conjunto de validación' )\n",
        "plt.savefig(\"Modelo1.jpg\", bbox_inches='tight')"
      ],
      "execution_count": 54,
      "outputs": [
        {
          "output_type": "stream",
          "text": [
            "11106/11106 [==============================] - 0s 37us/step\n",
            "                precision    recall  f1-score   support\n",
            "\n",
            "     Despierto       0.72      0.54      0.62      4138\n",
            "  Sueño ligero       0.58      0.63      0.61      4286\n",
            "Sueño profundo       0.66      0.38      0.48      1219\n",
            "     Sueño REM       0.29      0.52      0.37      1463\n",
            "\n",
            "      accuracy                           0.55     11106\n",
            "     macro avg       0.56      0.52      0.52     11106\n",
            "  weighted avg       0.60      0.55      0.57     11106\n",
            "\n",
            "Precisión:  55.47451972961426 % , Neuronas:  [ 200 , 50 , 4 ]\n",
            "11106/11106 [==============================] - 0s 34us/step\n",
            "                precision    recall  f1-score   support\n",
            "\n",
            "     Despierto       0.73      0.55      0.63      4138\n",
            "  Sueño ligero       0.57      0.66      0.61      4286\n",
            "Sueño profundo       0.66      0.40      0.50      1219\n",
            "     Sueño REM       0.30      0.47      0.36      1463\n",
            "\n",
            "      accuracy                           0.56     11106\n",
            "     macro avg       0.57      0.52      0.53     11106\n",
            "  weighted avg       0.60      0.56      0.57     11106\n",
            "\n",
            "Precisión:  56.48298263549805 % , Neuronas:  [ 200 , 100 , 4 ]\n",
            "11106/11106 [==============================] - 0s 40us/step\n",
            "                precision    recall  f1-score   support\n",
            "\n",
            "     Despierto       0.72      0.54      0.62      4138\n",
            "  Sueño ligero       0.59      0.65      0.62      4286\n",
            "Sueño profundo       0.63      0.42      0.51      1219\n",
            "     Sueño REM       0.28      0.48      0.35      1463\n",
            "\n",
            "      accuracy                           0.56     11106\n",
            "     macro avg       0.56      0.52      0.52     11106\n",
            "  weighted avg       0.60      0.56      0.57     11106\n",
            "\n",
            "Precisión:  56.12281560897827 % , Neuronas:  [ 200 , 150 , 4 ]\n",
            "11106/11106 [==============================] - 0s 36us/step\n",
            "                precision    recall  f1-score   support\n",
            "\n",
            "     Despierto       0.75      0.52      0.61      4138\n",
            "  Sueño ligero       0.57      0.64      0.61      4286\n",
            "Sueño profundo       0.66      0.41      0.51      1219\n",
            "     Sueño REM       0.28      0.51      0.36      1463\n",
            "\n",
            "      accuracy                           0.55     11106\n",
            "     macro avg       0.57      0.52      0.52     11106\n",
            "  weighted avg       0.61      0.55      0.57     11106\n",
            "\n",
            "Precisión:  55.44750690460205 % , Neuronas:  [ 200 , 200 , 4 ]\n",
            "11106/11106 [==============================] - 0s 38us/step\n",
            "                precision    recall  f1-score   support\n",
            "\n",
            "     Despierto       0.75      0.53      0.62      4138\n",
            "  Sueño ligero       0.58      0.65      0.61      4286\n",
            "Sueño profundo       0.69      0.39      0.50      1219\n",
            "     Sueño REM       0.28      0.52      0.37      1463\n",
            "\n",
            "      accuracy                           0.56     11106\n",
            "     macro avg       0.58      0.52      0.52     11106\n",
            "  weighted avg       0.62      0.56      0.57     11106\n",
            "\n",
            "Precisión:  55.91571927070618 % , Neuronas:  [ 200 , 250 , 4 ]\n",
            "11106/11106 [==============================] - 0s 35us/step\n",
            "                precision    recall  f1-score   support\n",
            "\n",
            "     Despierto       0.68      0.57      0.62      4138\n",
            "  Sueño ligero       0.58      0.65      0.61      4286\n",
            "Sueño profundo       0.69      0.27      0.39      1219\n",
            "     Sueño REM       0.30      0.48      0.37      1463\n",
            "\n",
            "      accuracy                           0.56     11106\n",
            "     macro avg       0.56      0.49      0.50     11106\n",
            "  weighted avg       0.59      0.56      0.56     11106\n",
            "\n",
            "Precisión:  55.66360354423523 % , Neuronas:  [ 200 , 300 , 4 ]\n",
            "11106/11106 [==============================] - 0s 33us/step\n",
            "                precision    recall  f1-score   support\n",
            "\n",
            "     Despierto       0.73      0.53      0.61      4138\n",
            "  Sueño ligero       0.57      0.61      0.59      4286\n",
            "Sueño profundo       0.66      0.39      0.49      1219\n",
            "     Sueño REM       0.28      0.55      0.37      1463\n",
            "\n",
            "      accuracy                           0.55     11106\n",
            "     macro avg       0.56      0.52      0.52     11106\n",
            "  weighted avg       0.60      0.55      0.56     11106\n",
            "\n",
            "Precisión:  54.51107621192932 % , Neuronas:  [ 200 , 350 , 4 ]\n",
            "11106/11106 [==============================] - 0s 37us/step\n",
            "                precision    recall  f1-score   support\n",
            "\n",
            "     Despierto       0.73      0.55      0.63      4138\n",
            "  Sueño ligero       0.57      0.71      0.63      4286\n",
            "Sueño profundo       0.66      0.39      0.49      1219\n",
            "     Sueño REM       0.31      0.41      0.36      1463\n",
            "\n",
            "      accuracy                           0.58     11106\n",
            "     macro avg       0.57      0.52      0.53     11106\n",
            "  weighted avg       0.61      0.58      0.58     11106\n",
            "\n",
            "Precisión:  57.53646492958069 % , Neuronas:  [ 200 , 400 , 4 ]\n",
            "11106/11106 [==============================] - 0s 37us/step\n",
            "                precision    recall  f1-score   support\n",
            "\n",
            "     Despierto       0.69      0.58      0.63      4138\n",
            "  Sueño ligero       0.57      0.66      0.61      4286\n",
            "Sueño profundo       0.72      0.28      0.40      1219\n",
            "     Sueño REM       0.29      0.45      0.36      1463\n",
            "\n",
            "      accuracy                           0.56     11106\n",
            "     macro avg       0.57      0.49      0.50     11106\n",
            "  weighted avg       0.59      0.56      0.56     11106\n",
            "\n",
            "Precisión:  55.86169362068176 % , Neuronas:  [ 200 , 450 , 4 ]\n",
            "11106/11106 [==============================] - 0s 37us/step\n",
            "                precision    recall  f1-score   support\n",
            "\n",
            "     Despierto       0.72      0.55      0.62      4138\n",
            "  Sueño ligero       0.59      0.64      0.61      4286\n",
            "Sueño profundo       0.64      0.45      0.53      1219\n",
            "     Sueño REM       0.27      0.46      0.34      1463\n",
            "\n",
            "      accuracy                           0.56     11106\n",
            "     macro avg       0.56      0.52      0.53     11106\n",
            "  weighted avg       0.60      0.56      0.57     11106\n",
            "\n",
            "Precisión:  56.167834997177124 % , Neuronas:  [ 200 , 500 , 4 ]\n"
          ],
          "name": "stdout"
        },
        {
          "output_type": "display_data",
          "data": {
            "image/png": "[encoded data removed]",
            "text/plain": [
              "<Figure size 432x288 with 1 Axes>"
            ]
          },
          "metadata": {
            "tags": [],
            "needs_background": "light"
          }
        }
      ]
    },
    {
      "cell_type": "markdown",
      "metadata": {
        "id": "mNqqU-HhaqYJ",
        "colab_type": "text"
      },
      "source": [
        "#Se selecciona la red neuronal\n",
        "\n",
        "1.   Se va a tomar la red con las neuronas [nInicial, 400, nSalida], dado que se observaron buenos resultados para este tipo de red.\n",
        "2.   Se entrena la red con los datos de en trenamiento y esto luego de 5 epochs.\n",
        "3.   Se guarda la red obtenida.\n",
        "\n"
      ]
    },
    {
      "cell_type": "code",
      "metadata": {
        "id": "q8xxr_6AfJWQ",
        "colab_type": "code",
        "colab": {}
      },
      "source": [
        "num=list(range(len(y_entrenamiento)))\n",
        "y_entren_classes=[]\n",
        "for i in num:\n",
        "  y_entren_classes.append(np.argmax(y_entrenamiento[i]))\n",
        "y_entren_classes = np.array(y_entren_classes)\n",
        "class_weights = np.array([0.1,0.1,1.0,10.0])"
      ],
      "execution_count": 0,
      "outputs": []
    },
    {
      "cell_type": "code",
      "metadata": {
        "id": "C-ec8XmmoVfj",
        "colab_type": "code",
        "outputId": "cfb10314-4f93-4b23-e7d3-ca26752eb073",
        "colab": {
          "base_uri": "https://localhost:8080/",
          "height": 1000
        }
      },
      "source": [
        "#Se crea la red neuronal\n",
        "RedNeuronal = crearRed(nInicial, 400, nSalida) \n",
        "#Se entrena la red\n",
        "fit = RedNeuronal.fit(x_entrenamiento, y_entrenamiento,validation_data=(x_validacion, y_validacion), class_weight=class_weights ,batch_size=64, epochs=50, verbose=1)\n",
        "#Se guarda la red creada\n",
        "RedNeuronal.save(\"Punto1.h5py\")"
      ],
      "execution_count": 56,
      "outputs": [
        {
          "output_type": "stream",
          "text": [
            "Train on 151192 samples, validate on 11106 samples\n",
            "Epoch 1/50\n",
            "151192/151192 [==============================] - 9s 60us/step - loss: 1.0839 - accuracy: 0.5142 - val_loss: 1.1230 - val_accuracy: 0.4784\n",
            "Epoch 2/50\n",
            "151192/151192 [==============================] - 8s 56us/step - loss: 0.9474 - accuracy: 0.5877 - val_loss: 1.0266 - val_accuracy: 0.5325\n",
            "Epoch 3/50\n",
            "151192/151192 [==============================] - 8s 56us/step - loss: 0.8983 - accuracy: 0.6084 - val_loss: 1.0435 - val_accuracy: 0.5106\n",
            "Epoch 4/50\n",
            "151192/151192 [==============================] - 8s 56us/step - loss: 0.8702 - accuracy: 0.6208 - val_loss: 1.0060 - val_accuracy: 0.5290\n",
            "Epoch 5/50\n",
            "151192/151192 [==============================] - 8s 56us/step - loss: 0.8498 - accuracy: 0.6318 - val_loss: 0.9673 - val_accuracy: 0.5615\n",
            "Epoch 6/50\n",
            "151192/151192 [==============================] - 8s 56us/step - loss: 0.8376 - accuracy: 0.6381 - val_loss: 0.9568 - val_accuracy: 0.5697\n",
            "Epoch 7/50\n",
            "151192/151192 [==============================] - 9s 56us/step - loss: 0.8263 - accuracy: 0.6439 - val_loss: 0.9611 - val_accuracy: 0.5646\n",
            "Epoch 8/50\n",
            "151192/151192 [==============================] - 8s 56us/step - loss: 0.8185 - accuracy: 0.6477 - val_loss: 0.9834 - val_accuracy: 0.5429\n",
            "Epoch 9/50\n",
            "151192/151192 [==============================] - 9s 57us/step - loss: 0.8112 - accuracy: 0.6520 - val_loss: 0.9509 - val_accuracy: 0.5636\n",
            "Epoch 10/50\n",
            "151192/151192 [==============================] - 8s 56us/step - loss: 0.8030 - accuracy: 0.6559 - val_loss: 0.9707 - val_accuracy: 0.5499\n",
            "Epoch 11/50\n",
            "151192/151192 [==============================] - 8s 56us/step - loss: 0.7989 - accuracy: 0.6564 - val_loss: 0.9525 - val_accuracy: 0.5591\n",
            "Epoch 12/50\n",
            "151192/151192 [==============================] - 8s 56us/step - loss: 0.7926 - accuracy: 0.6611 - val_loss: 0.9531 - val_accuracy: 0.5556\n",
            "Epoch 13/50\n",
            "151192/151192 [==============================] - 8s 56us/step - loss: 0.7888 - accuracy: 0.6616 - val_loss: 0.9382 - val_accuracy: 0.5696\n",
            "Epoch 14/50\n",
            "151192/151192 [==============================] - 9s 56us/step - loss: 0.7856 - accuracy: 0.6628 - val_loss: 0.9442 - val_accuracy: 0.5706\n",
            "Epoch 15/50\n",
            "151192/151192 [==============================] - 9s 56us/step - loss: 0.7827 - accuracy: 0.6660 - val_loss: 0.9421 - val_accuracy: 0.5610\n",
            "Epoch 16/50\n",
            "151192/151192 [==============================] - 8s 56us/step - loss: 0.7785 - accuracy: 0.6686 - val_loss: 0.9390 - val_accuracy: 0.5742\n",
            "Epoch 17/50\n",
            "151192/151192 [==============================] - 9s 56us/step - loss: 0.7769 - accuracy: 0.6700 - val_loss: 0.9474 - val_accuracy: 0.5630\n",
            "Epoch 18/50\n",
            "151192/151192 [==============================] - 9s 57us/step - loss: 0.7743 - accuracy: 0.6705 - val_loss: 0.9520 - val_accuracy: 0.5694\n",
            "Epoch 19/50\n",
            "151192/151192 [==============================] - 9s 57us/step - loss: 0.7685 - accuracy: 0.6730 - val_loss: 0.9456 - val_accuracy: 0.5720\n",
            "Epoch 20/50\n",
            "151192/151192 [==============================] - 8s 56us/step - loss: 0.7705 - accuracy: 0.6731 - val_loss: 0.9400 - val_accuracy: 0.5753\n",
            "Epoch 21/50\n",
            "151192/151192 [==============================] - 9s 56us/step - loss: 0.7652 - accuracy: 0.6757 - val_loss: 0.9414 - val_accuracy: 0.5680\n",
            "Epoch 22/50\n",
            "151192/151192 [==============================] - 8s 56us/step - loss: 0.7640 - accuracy: 0.6762 - val_loss: 0.9297 - val_accuracy: 0.5767\n",
            "Epoch 23/50\n",
            "151192/151192 [==============================] - 9s 56us/step - loss: 0.7618 - accuracy: 0.6777 - val_loss: 0.9309 - val_accuracy: 0.5781\n",
            "Epoch 24/50\n",
            "151192/151192 [==============================] - 8s 56us/step - loss: 0.7612 - accuracy: 0.6783 - val_loss: 0.9276 - val_accuracy: 0.5802\n",
            "Epoch 25/50\n",
            "151192/151192 [==============================] - 9s 56us/step - loss: 0.7614 - accuracy: 0.6790 - val_loss: 0.9416 - val_accuracy: 0.5716\n",
            "Epoch 26/50\n",
            "151192/151192 [==============================] - 8s 56us/step - loss: 0.7590 - accuracy: 0.6802 - val_loss: 0.9292 - val_accuracy: 0.5789\n",
            "Epoch 27/50\n",
            "151192/151192 [==============================] - 9s 58us/step - loss: 0.7572 - accuracy: 0.6800 - val_loss: 0.9206 - val_accuracy: 0.5892\n",
            "Epoch 28/50\n",
            "151192/151192 [==============================] - 9s 59us/step - loss: 0.7549 - accuracy: 0.6813 - val_loss: 0.9287 - val_accuracy: 0.5742\n",
            "Epoch 29/50\n",
            "151192/151192 [==============================] - 9s 56us/step - loss: 0.7559 - accuracy: 0.6825 - val_loss: 0.9256 - val_accuracy: 0.5787\n",
            "Epoch 30/50\n",
            "151192/151192 [==============================] - 9s 56us/step - loss: 0.7507 - accuracy: 0.6838 - val_loss: 0.9327 - val_accuracy: 0.5701\n",
            "Epoch 31/50\n",
            "151192/151192 [==============================] - 8s 56us/step - loss: 0.7515 - accuracy: 0.6827 - val_loss: 0.9246 - val_accuracy: 0.5731\n",
            "Epoch 32/50\n",
            "151192/151192 [==============================] - 9s 56us/step - loss: 0.7517 - accuracy: 0.6828 - val_loss: 0.9366 - val_accuracy: 0.5747\n",
            "Epoch 33/50\n",
            "151192/151192 [==============================] - 8s 56us/step - loss: 0.7520 - accuracy: 0.6840 - val_loss: 0.9414 - val_accuracy: 0.5669\n",
            "Epoch 34/50\n",
            "151192/151192 [==============================] - 8s 56us/step - loss: 0.7495 - accuracy: 0.6858 - val_loss: 0.9354 - val_accuracy: 0.5784\n",
            "Epoch 35/50\n",
            "151192/151192 [==============================] - 8s 56us/step - loss: 0.7490 - accuracy: 0.6851 - val_loss: 0.9386 - val_accuracy: 0.5731\n",
            "Epoch 36/50\n",
            "151192/151192 [==============================] - 9s 56us/step - loss: 0.7460 - accuracy: 0.6879 - val_loss: 0.9193 - val_accuracy: 0.5777\n",
            "Epoch 37/50\n",
            "151192/151192 [==============================] - 9s 58us/step - loss: 0.7474 - accuracy: 0.6872 - val_loss: 0.9327 - val_accuracy: 0.5746\n",
            "Epoch 38/50\n",
            "151192/151192 [==============================] - 9s 56us/step - loss: 0.7458 - accuracy: 0.6874 - val_loss: 0.9438 - val_accuracy: 0.5691\n",
            "Epoch 39/50\n",
            "151192/151192 [==============================] - 8s 56us/step - loss: 0.7448 - accuracy: 0.6889 - val_loss: 0.9291 - val_accuracy: 0.5758\n",
            "Epoch 40/50\n",
            "151192/151192 [==============================] - 8s 56us/step - loss: 0.7447 - accuracy: 0.6895 - val_loss: 0.9299 - val_accuracy: 0.5800\n",
            "Epoch 41/50\n",
            "151192/151192 [==============================] - 9s 56us/step - loss: 0.7437 - accuracy: 0.6886 - val_loss: 0.9360 - val_accuracy: 0.5726\n",
            "Epoch 42/50\n",
            "151192/151192 [==============================] - 8s 56us/step - loss: 0.7444 - accuracy: 0.6885 - val_loss: 0.9316 - val_accuracy: 0.5821\n",
            "Epoch 43/50\n",
            "151192/151192 [==============================] - 8s 56us/step - loss: 0.7419 - accuracy: 0.6897 - val_loss: 0.9394 - val_accuracy: 0.5720\n",
            "Epoch 44/50\n",
            "151192/151192 [==============================] - 8s 56us/step - loss: 0.7409 - accuracy: 0.6907 - val_loss: 0.9343 - val_accuracy: 0.5710\n",
            "Epoch 45/50\n",
            "151192/151192 [==============================] - 8s 56us/step - loss: 0.7442 - accuracy: 0.6892 - val_loss: 0.9168 - val_accuracy: 0.5842\n",
            "Epoch 46/50\n",
            "151192/151192 [==============================] - 8s 56us/step - loss: 0.7402 - accuracy: 0.6912 - val_loss: 0.9265 - val_accuracy: 0.5848\n",
            "Epoch 47/50\n",
            "151192/151192 [==============================] - 9s 57us/step - loss: 0.7419 - accuracy: 0.6915 - val_loss: 0.9414 - val_accuracy: 0.5757\n",
            "Epoch 48/50\n",
            "151192/151192 [==============================] - 8s 56us/step - loss: 0.7419 - accuracy: 0.6909 - val_loss: 0.9356 - val_accuracy: 0.5795\n",
            "Epoch 49/50\n",
            "151192/151192 [==============================] - 8s 56us/step - loss: 0.7413 - accuracy: 0.6909 - val_loss: 0.9330 - val_accuracy: 0.5782\n",
            "Epoch 50/50\n",
            "151192/151192 [==============================] - 8s 56us/step - loss: 0.7408 - accuracy: 0.6932 - val_loss: 0.9382 - val_accuracy: 0.5745\n"
          ],
          "name": "stdout"
        }
      ]
    },
    {
      "cell_type": "markdown",
      "metadata": {
        "colab_type": "text",
        "id": "PvkeACiTMFka"
      },
      "source": [
        "#Matriz de confusión y validación de red"
      ]
    },
    {
      "cell_type": "code",
      "metadata": {
        "id": "djjBr1OmWqqM",
        "colab_type": "code",
        "outputId": "9b7e25a3-6d1c-400f-e14f-d7b988a768fc",
        "colab": {
          "base_uri": "https://localhost:8080/",
          "height": 290
        }
      },
      "source": [
        "y_obtenido = RedNeuronal.predict_classes(x_prueba)\n",
        "N_datos = y_prueba.shape[0]\n",
        "i = 0\n",
        "y_true = []\n",
        "y_pred = []\n",
        "while(i<N_datos):\n",
        "  y_true.append(np.argmax(y_prueba[i]))\n",
        "  y_pred.append(y_obtenido[i])\n",
        "  i = i+1\n",
        "matriz_confusion = confusion_matrix(y_true, y_pred)\n",
        "print(matriz_confusion)\n",
        "print (classification_report(y_true, y_pred, target_names=target_names)) "
      ],
      "execution_count": 57,
      "outputs": [
        {
          "output_type": "stream",
          "text": [
            "[[ 9842  4026   770  3564]\n",
            " [ 1194 11592  1061  4214]\n",
            " [  815  1472  2822   161]\n",
            " [  468  2380    22  3191]]\n",
            "                precision    recall  f1-score   support\n",
            "\n",
            "     Despierto       0.80      0.54      0.64     18202\n",
            "  Sueño ligero       0.60      0.64      0.62     18061\n",
            "Sueño profundo       0.60      0.54      0.57      5270\n",
            "     Sueño REM       0.29      0.53      0.37      6061\n",
            "\n",
            "      accuracy                           0.58     47594\n",
            "     macro avg       0.57      0.56      0.55     47594\n",
            "  weighted avg       0.63      0.58      0.59     47594\n",
            "\n"
          ],
          "name": "stdout"
        }
      ]
    },
    {
      "cell_type": "markdown",
      "metadata": {
        "id": "6Zd2LGHuZC-e",
        "colab_type": "text"
      },
      "source": [
        "#Evaluación de la red neuronal\n",
        "Una vez evaluado el error empirico y teniendo en cuenta el número de datos \\\\\n",
        "Se observa que el indice de confianza es :\n",
        "##$(1-\\delta) = (1 - 2/\\exp(|S{\\small text}|{ \\cdot 2\\varepsilon^2 }))$"
      ]
    },
    {
      "cell_type": "code",
      "metadata": {
        "id": "qxR3KyLjiuOZ",
        "colab_type": "code",
        "outputId": "3b7ef19c-07ba-4fb8-ebae-adc2a68c1c15",
        "colab": {
          "base_uri": "https://localhost:8080/",
          "height": 454
        }
      },
      "source": [
        "#Se prueba la red neuronal\n",
        "prueba = RedNeuronal.evaluate(x_prueba, y_prueba, verbose=0)\n",
        "#Se calcula el erro empirico, numero de datos y indice de confianza\n",
        "E_empirico = 1 - prueba[1]\n",
        "#confianza = 1 - 2/math.exp(N_datos*2*(E_empirico**2))\n",
        "print('Número de datos de prueba = ' + str(N_datos))\n",
        "print('Error empirico = ' + str(E_empirico))\n",
        "#print('indice de confianza = ' + str(confianza))\n",
        "#Resumen de la red\n",
        "RedNeuronal.summary()"
      ],
      "execution_count": 58,
      "outputs": [
        {
          "output_type": "stream",
          "text": [
            "Número de datos de prueba = 47594\n",
            "Error empirico = 0.42330968379974365\n",
            "Model: \"sequential_28\"\n",
            "_________________________________________________________________\n",
            "Layer (type)                 Output Shape              Param #   \n",
            "=================================================================\n",
            "dense_136 (Dense)            (None, 200)               40200     \n",
            "_________________________________________________________________\n",
            "dropout_55 (Dropout)         (None, 200)               0         \n",
            "_________________________________________________________________\n",
            "dense_137 (Dense)            (None, 400)               80400     \n",
            "_________________________________________________________________\n",
            "dense_138 (Dense)            (None, 400)               160400    \n",
            "_________________________________________________________________\n",
            "dense_139 (Dense)            (None, 400)               160400    \n",
            "_________________________________________________________________\n",
            "dropout_56 (Dropout)         (None, 400)               0         \n",
            "_________________________________________________________________\n",
            "dense_140 (Dense)            (None, 4)                 1604      \n",
            "=================================================================\n",
            "Total params: 443,004\n",
            "Trainable params: 443,004\n",
            "Non-trainable params: 0\n",
            "_________________________________________________________________\n"
          ],
          "name": "stdout"
        }
      ]
    },
    {
      "cell_type": "markdown",
      "metadata": {
        "id": "TttW1J5ATQLJ",
        "colab_type": "text"
      },
      "source": [
        "#Aumentar el peso para sueño profundo"
      ]
    },
    {
      "cell_type": "code",
      "metadata": {
        "colab_type": "code",
        "outputId": "447813dc-938d-44a2-a354-9ebb219b79b0",
        "id": "dIzbTbD6Tg8p",
        "colab": {
          "base_uri": "https://localhost:8080/",
          "height": 1000
        }
      },
      "source": [
        "#Se asigna un peso de 100 para sueño profundo\n",
        "class_weights = np.array([1.0, 1.0, 100.0, 1.0])\n",
        "#Se crea la red neuronal\n",
        "RedNeuronal = crearRed(nInicial, 400, nSalida) \n",
        "#Se entrena la red\n",
        "fit = RedNeuronal.fit(x_entrenamiento, y_entrenamiento,validation_data=(x_validacion, y_validacion), class_weight=class_weights ,batch_size=64, epochs=50, verbose=1)"
      ],
      "execution_count": 61,
      "outputs": [
        {
          "output_type": "stream",
          "text": [
            "Train on 151192 samples, validate on 11106 samples\n",
            "Epoch 1/50\n",
            "151192/151192 [==============================] - 9s 60us/step - loss: 1.0822 - accuracy: 0.5164 - val_loss: 1.0955 - val_accuracy: 0.5120\n",
            "Epoch 2/50\n",
            "151192/151192 [==============================] - 9s 59us/step - loss: 0.9466 - accuracy: 0.5887 - val_loss: 1.0248 - val_accuracy: 0.5285\n",
            "Epoch 3/50\n",
            "151192/151192 [==============================] - 9s 58us/step - loss: 0.8969 - accuracy: 0.6104 - val_loss: 0.9947 - val_accuracy: 0.5430\n",
            "Epoch 4/50\n",
            "151192/151192 [==============================] - 9s 58us/step - loss: 0.8706 - accuracy: 0.6225 - val_loss: 0.9850 - val_accuracy: 0.5484\n",
            "Epoch 5/50\n",
            "151192/151192 [==============================] - 9s 58us/step - loss: 0.8516 - accuracy: 0.6310 - val_loss: 0.9734 - val_accuracy: 0.5556\n",
            "Epoch 6/50\n",
            "151192/151192 [==============================] - 9s 58us/step - loss: 0.8372 - accuracy: 0.6378 - val_loss: 0.9648 - val_accuracy: 0.5589\n",
            "Epoch 7/50\n",
            "151192/151192 [==============================] - 9s 58us/step - loss: 0.8270 - accuracy: 0.6447 - val_loss: 0.9662 - val_accuracy: 0.5548\n",
            "Epoch 8/50\n",
            "151192/151192 [==============================] - 9s 58us/step - loss: 0.8173 - accuracy: 0.6477 - val_loss: 0.9746 - val_accuracy: 0.5446\n",
            "Epoch 9/50\n",
            "151192/151192 [==============================] - 9s 58us/step - loss: 0.8109 - accuracy: 0.6508 - val_loss: 0.9574 - val_accuracy: 0.5534\n",
            "Epoch 10/50\n",
            "151192/151192 [==============================] - 9s 59us/step - loss: 0.8032 - accuracy: 0.6565 - val_loss: 0.9542 - val_accuracy: 0.5583\n",
            "Epoch 11/50\n",
            "151192/151192 [==============================] - 9s 58us/step - loss: 0.7996 - accuracy: 0.6569 - val_loss: 0.9423 - val_accuracy: 0.5610\n",
            "Epoch 12/50\n",
            "151192/151192 [==============================] - 9s 58us/step - loss: 0.7938 - accuracy: 0.6603 - val_loss: 0.9453 - val_accuracy: 0.5606\n",
            "Epoch 13/50\n",
            "151192/151192 [==============================] - 9s 58us/step - loss: 0.7929 - accuracy: 0.6623 - val_loss: 0.9403 - val_accuracy: 0.5668\n",
            "Epoch 14/50\n",
            "151192/151192 [==============================] - 9s 59us/step - loss: 0.7855 - accuracy: 0.6638 - val_loss: 0.9426 - val_accuracy: 0.5697\n",
            "Epoch 15/50\n",
            "151192/151192 [==============================] - 9s 58us/step - loss: 0.7832 - accuracy: 0.6670 - val_loss: 0.9351 - val_accuracy: 0.5691\n",
            "Epoch 16/50\n",
            "151192/151192 [==============================] - 9s 58us/step - loss: 0.7787 - accuracy: 0.6686 - val_loss: 0.9418 - val_accuracy: 0.5635\n",
            "Epoch 17/50\n",
            "151192/151192 [==============================] - 9s 58us/step - loss: 0.7770 - accuracy: 0.6711 - val_loss: 0.9350 - val_accuracy: 0.5688\n",
            "Epoch 18/50\n",
            "151192/151192 [==============================] - 9s 59us/step - loss: 0.7751 - accuracy: 0.6725 - val_loss: 0.9446 - val_accuracy: 0.5790\n",
            "Epoch 19/50\n",
            "151192/151192 [==============================] - 9s 59us/step - loss: 0.7714 - accuracy: 0.6727 - val_loss: 0.9496 - val_accuracy: 0.5609\n",
            "Epoch 20/50\n",
            "151192/151192 [==============================] - 9s 60us/step - loss: 0.7679 - accuracy: 0.6749 - val_loss: 0.9412 - val_accuracy: 0.5708\n",
            "Epoch 21/50\n",
            "151192/151192 [==============================] - 9s 57us/step - loss: 0.7686 - accuracy: 0.6744 - val_loss: 0.9294 - val_accuracy: 0.5790\n",
            "Epoch 22/50\n",
            "151192/151192 [==============================] - 9s 57us/step - loss: 0.7654 - accuracy: 0.6771 - val_loss: 0.9360 - val_accuracy: 0.5730\n",
            "Epoch 23/50\n",
            "151192/151192 [==============================] - 9s 58us/step - loss: 0.7634 - accuracy: 0.6784 - val_loss: 0.9228 - val_accuracy: 0.5835\n",
            "Epoch 24/50\n",
            "151192/151192 [==============================] - 9s 58us/step - loss: 0.7619 - accuracy: 0.6783 - val_loss: 0.9402 - val_accuracy: 0.5720\n",
            "Epoch 25/50\n",
            "151192/151192 [==============================] - 9s 60us/step - loss: 0.7610 - accuracy: 0.6797 - val_loss: 0.9384 - val_accuracy: 0.5710\n",
            "Epoch 26/50\n",
            "151192/151192 [==============================] - 9s 58us/step - loss: 0.7590 - accuracy: 0.6809 - val_loss: 0.9523 - val_accuracy: 0.5548\n",
            "Epoch 27/50\n",
            "151192/151192 [==============================] - 9s 58us/step - loss: 0.7561 - accuracy: 0.6824 - val_loss: 0.9413 - val_accuracy: 0.5665\n",
            "Epoch 28/50\n",
            "151192/151192 [==============================] - 9s 59us/step - loss: 0.7576 - accuracy: 0.6816 - val_loss: 0.9573 - val_accuracy: 0.5495\n",
            "Epoch 29/50\n",
            "151192/151192 [==============================] - 9s 58us/step - loss: 0.7547 - accuracy: 0.6823 - val_loss: 0.9360 - val_accuracy: 0.5760\n",
            "Epoch 30/50\n",
            "151192/151192 [==============================] - 9s 58us/step - loss: 0.7561 - accuracy: 0.6818 - val_loss: 0.9336 - val_accuracy: 0.5667\n",
            "Epoch 31/50\n",
            "151192/151192 [==============================] - 9s 58us/step - loss: 0.7518 - accuracy: 0.6833 - val_loss: 0.9331 - val_accuracy: 0.5706\n",
            "Epoch 32/50\n",
            "151192/151192 [==============================] - 9s 59us/step - loss: 0.7492 - accuracy: 0.6849 - val_loss: 0.9424 - val_accuracy: 0.5606\n",
            "Epoch 33/50\n",
            "151192/151192 [==============================] - 9s 59us/step - loss: 0.7510 - accuracy: 0.6850 - val_loss: 0.9499 - val_accuracy: 0.5640\n",
            "Epoch 34/50\n",
            "151192/151192 [==============================] - 9s 58us/step - loss: 0.7505 - accuracy: 0.6857 - val_loss: 0.9384 - val_accuracy: 0.5665\n",
            "Epoch 35/50\n",
            "151192/151192 [==============================] - 9s 59us/step - loss: 0.7490 - accuracy: 0.6856 - val_loss: 0.9412 - val_accuracy: 0.5618\n",
            "Epoch 36/50\n",
            "151192/151192 [==============================] - 9s 58us/step - loss: 0.7498 - accuracy: 0.6864 - val_loss: 0.9393 - val_accuracy: 0.5701\n",
            "Epoch 37/50\n",
            "151192/151192 [==============================] - 9s 59us/step - loss: 0.7505 - accuracy: 0.6859 - val_loss: 0.9341 - val_accuracy: 0.5755\n",
            "Epoch 38/50\n",
            "151192/151192 [==============================] - 9s 58us/step - loss: 0.7468 - accuracy: 0.6872 - val_loss: 0.9386 - val_accuracy: 0.5702\n",
            "Epoch 39/50\n",
            "151192/151192 [==============================] - 9s 58us/step - loss: 0.7476 - accuracy: 0.6891 - val_loss: 0.9479 - val_accuracy: 0.5626\n",
            "Epoch 40/50\n",
            "151192/151192 [==============================] - 9s 59us/step - loss: 0.7486 - accuracy: 0.6880 - val_loss: 0.9536 - val_accuracy: 0.5590\n",
            "Epoch 41/50\n",
            "151192/151192 [==============================] - 9s 59us/step - loss: 0.7473 - accuracy: 0.6883 - val_loss: 0.9364 - val_accuracy: 0.5673\n",
            "Epoch 42/50\n",
            "151192/151192 [==============================] - 9s 59us/step - loss: 0.7472 - accuracy: 0.6886 - val_loss: 0.9434 - val_accuracy: 0.5648\n",
            "Epoch 43/50\n",
            "151192/151192 [==============================] - 9s 59us/step - loss: 0.7444 - accuracy: 0.6905 - val_loss: 0.9378 - val_accuracy: 0.5701\n",
            "Epoch 44/50\n",
            "151192/151192 [==============================] - 9s 59us/step - loss: 0.7455 - accuracy: 0.6882 - val_loss: 0.9521 - val_accuracy: 0.5588\n",
            "Epoch 45/50\n",
            "151192/151192 [==============================] - 9s 60us/step - loss: 0.7457 - accuracy: 0.6904 - val_loss: 0.9355 - val_accuracy: 0.5666\n",
            "Epoch 46/50\n",
            "151192/151192 [==============================] - 9s 60us/step - loss: 0.7430 - accuracy: 0.6905 - val_loss: 0.9501 - val_accuracy: 0.5563\n",
            "Epoch 47/50\n",
            "151192/151192 [==============================] - 9s 59us/step - loss: 0.7443 - accuracy: 0.6900 - val_loss: 0.9361 - val_accuracy: 0.5794\n",
            "Epoch 48/50\n",
            "151192/151192 [==============================] - 9s 59us/step - loss: 0.7450 - accuracy: 0.6906 - val_loss: 0.9397 - val_accuracy: 0.5692\n",
            "Epoch 49/50\n",
            "151192/151192 [==============================] - 9s 59us/step - loss: 0.7422 - accuracy: 0.6927 - val_loss: 0.9264 - val_accuracy: 0.5845\n",
            "Epoch 50/50\n",
            "151192/151192 [==============================] - 9s 59us/step - loss: 0.7435 - accuracy: 0.6895 - val_loss: 0.9509 - val_accuracy: 0.5665\n"
          ],
          "name": "stdout"
        }
      ]
    },
    {
      "cell_type": "markdown",
      "metadata": {
        "colab_type": "text",
        "id": "BxUpVACVT6o5"
      },
      "source": [
        "#Matriz de confusión y validación de red"
      ]
    },
    {
      "cell_type": "code",
      "metadata": {
        "colab_type": "code",
        "outputId": "70ab8105-ce7b-4877-ad54-bd3a119a5822",
        "id": "OiRnBpc2UAPp",
        "colab": {
          "base_uri": "https://localhost:8080/",
          "height": 290
        }
      },
      "source": [
        "y_obtenido = RedNeuronal.predict_classes(x_prueba)\n",
        "N_datos = y_prueba.shape[0]\n",
        "i = 0\n",
        "y_true = []\n",
        "y_pred = []\n",
        "while(i<N_datos):\n",
        "  y_true.append(np.argmax(y_prueba[i]))\n",
        "  y_pred.append(y_obtenido[i])\n",
        "  i = i+1\n",
        "matriz_confusion = confusion_matrix(y_true, y_pred)\n",
        "print(matriz_confusion)\n",
        "print (classification_report(y_true, y_pred, target_names=target_names)) "
      ],
      "execution_count": 62,
      "outputs": [
        {
          "output_type": "stream",
          "text": [
            "[[10508  3686   263  3745]\n",
            " [ 1715 11257   526  4563]\n",
            " [ 1365  1763  2007   135]\n",
            " [  543  2142    17  3359]]\n",
            "                precision    recall  f1-score   support\n",
            "\n",
            "     Despierto       0.74      0.58      0.65     18202\n",
            "  Sueño ligero       0.60      0.62      0.61     18061\n",
            "Sueño profundo       0.71      0.38      0.50      5270\n",
            "     Sueño REM       0.28      0.55      0.38      6061\n",
            "\n",
            "      accuracy                           0.57     47594\n",
            "     macro avg       0.58      0.53      0.53     47594\n",
            "  weighted avg       0.63      0.57      0.58     47594\n",
            "\n"
          ],
          "name": "stdout"
        }
      ]
    },
    {
      "cell_type": "markdown",
      "metadata": {
        "id": "e0AWSKqaWPtz",
        "colab_type": "text"
      },
      "source": [
        "#Analisis de resultados\n",
        "Luego de ver el comportamiento de las redes se determio que:\n",
        "\n",
        "\n",
        "1.   La red que peor describe las clsaes cuyos datos eran minoritarios fue la red no balanceada. De modo que, balancear la cantidad de datos es muy importante al momento de trabajar con clasificación\n",
        "2.   Ademas se observó que modificar los pesos de las variables priorizando aquellas que carecian de datos, permitió obtener una red con una presición mucho más generalizada en las distintas clases.\n",
        "3.   Por otro lado tambien se observó que al modificar los pesos teniendo en cuenta una unica variable, no fue conveniente. Ya que, esto le resto presición a las demas variables sin presentar una mejora significativa en esta unica variable.\n",
        "4.   Finalmente, se observo que los resultados en general de las tres redes no son verdaderamente buenos. Esto se debe posiblemente a un problema con los descriptores, o con el tamaño de la red. Sin embargo, no se encontró una red que ofreciera un mejor resultado.\n",
        "\n"
      ]
    },
    {
      "cell_type": "markdown",
      "metadata": {
        "id": "ev5NDvwSlh-_",
        "colab_type": "text"
      },
      "source": [
        "  #Referencias\n",
        "\n",
        "1.   \"sklearn.decomposition.PCA — scikit-learn 0.23.1 documentation\", Scikit-learn.org, 2020. [Online]. Available: https://scikit-learn.org/stable/modules/generated/sklearn.decomposition.PCA.html. [Accessed: 24- May- 2020].\n",
        "2.   \n",
        "\"Home - Keras Documentation\", Keras.io, 2020. [Online]. Available: https://keras.io/. [Accessed: 20- Mar- 2020].\n"
      ]
    }
  ]
}