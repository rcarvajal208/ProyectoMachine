{
  "nbformat": 4,
  "nbformat_minor": 0,
  "metadata": {
    "colab": {
      "name": "Untitled4.ipynb",
      "provenance": [],
      "collapsed_sections": [],
      "toc_visible": true,
      "mount_file_id": "1dj7ny4ef03S9L6-wyJdJmhK1nCQX6_ZX",
      "authorship_tag": "ABX9TyO3wJlE2V2MUu9MgnhIqC2P",
      "include_colab_link": true
    },
    "kernelspec": {
      "name": "python3",
      "display_name": "Python 3"
    }
  },
  "cells": [
    {
      "cell_type": "markdown",
      "metadata": {
        "id": "view-in-github",
        "colab_type": "text"
      },
      "source": [
        "<a href=\"https://colab.research.google.com/github/rcarvajal208/ProyectoMachine/blob/master/P1-CasoFacil.ipynb\" target=\"_parent\"><img src=\"https://colab.research.google.com/assets/colab-badge.svg\" alt=\"Open In Colab\"/></a>"
      ]
    },
    {
      "cell_type": "markdown",
      "metadata": {
        "id": "L9fYVKd4NVmu",
        "colab_type": "text"
      },
      "source": [
        "#Se importan las librerias"
      ]
    },
    {
      "cell_type": "code",
      "metadata": {
        "id": "jlUVSk_p-jK0",
        "colab_type": "code",
        "colab": {}
      },
      "source": [
        "import zipfile\n",
        "import os \n",
        "import cv2\n",
        "import numpy as np\n",
        "from PIL import Image\n",
        "import matplotlib.pyplot as plt \n",
        "from sklearn import preprocessing, model_selection\n",
        "import keras\n",
        "from keras.utils import to_categorical\n",
        "from keras.models import Sequential,Input,Model\n",
        "from keras.layers import Dense, Dropout, Flatten\n",
        "from keras.layers import Conv2D, MaxPooling2D\n",
        "from keras.layers.normalization import BatchNormalization\n",
        "from keras.layers.advanced_activations import LeakyReLU"
      ],
      "execution_count": 0,
      "outputs": []
    },
    {
      "cell_type": "markdown",
      "metadata": {
        "id": "ZOEm0GIAJt64",
        "colab_type": "text"
      },
      "source": [
        "#Se cargan los datos"
      ]
    },
    {
      "cell_type": "code",
      "metadata": {
        "id": "teybXDkyjTby",
        "colab_type": "code",
        "colab": {}
      },
      "source": [
        "mundo0 = zipfile.ZipFile(\"Mundo0.zip\", mode=\"r\")\n",
        "mundo8 = zipfile.ZipFile(\"Mundo7.zip\", mode=\"r\") \n",
        "mundo0.extractall(None)\n",
        "mundo8.extractall(None)"
      ],
      "execution_count": 0,
      "outputs": []
    },
    {
      "cell_type": "markdown",
      "metadata": {
        "id": "DoOfqHBdLRxV",
        "colab_type": "text"
      },
      "source": [
        "#Se definen las variables 'X' y 'y'"
      ]
    },
    {
      "cell_type": "code",
      "metadata": {
        "id": "OclGdAAnmVFB",
        "colab_type": "code",
        "outputId": "748166f7-d98f-497f-aa4b-1650c2e3efa4",
        "colab": {
          "base_uri": "https://localhost:8080/",
          "height": 34
        }
      },
      "source": [
        "imagenes = []\n",
        "nivel = []\n",
        "imagenes0 = mundo0.namelist()\n",
        "imagenes8 = mundo8.namelist()\n",
        "#Se agregan las imagenes del mundo 1\n",
        "i = 1\n",
        "while(i<=5000):\n",
        "  filepath = os.path.join(\"\", imagenes0[i]) \n",
        "  image = plt.imread(filepath)\n",
        "  imagenes.append(image)\n",
        "  nivel.append(0)\n",
        "  i += 1\n",
        "#Se agreagan las imagenes del mundo 8\n",
        "i = 1\n",
        "while(i<=5000):\n",
        "  filepath = os.path.join(\"\", imagenes8[i]) \n",
        "  image = plt.imread(filepath)\n",
        "  imagenes.append(image)\n",
        "  nivel.append(8)\n",
        "  i += 1\n",
        "#Se define la salida por categorias, para que se puedan distinguir las clases.\n",
        "y = to_categorical(np.array(nivel))\n",
        "X = np.array(imagenes, dtype=np.uint8)  \n",
        "print('Dimensiones de las variables: ', X.shape, y.shape)"
      ],
      "execution_count": 28,
      "outputs": [
        {
          "output_type": "stream",
          "text": [
            "Dimensiones de las variables:  (10000, 200, 240, 3) (10000, 2)\n"
          ],
          "name": "stdout"
        }
      ]
    },
    {
      "cell_type": "markdown",
      "metadata": {
        "id": "eno0dMvLJz7p",
        "colab_type": "text"
      },
      "source": [
        "#Preprocesamiento de datos\n",
        "\n",
        "\n",
        "1.   Se realiza el conjunto de entrenamiento al tomar el 10% de los datos totales.\n",
        "2.   Se realiza el conjunto de validación al tomar el 10% de los datos de entrenamiento.\n",
        "\n"
      ]
    },
    {
      "cell_type": "code",
      "metadata": {
        "id": "593x9HKD2feD",
        "colab_type": "code",
        "colab": {}
      },
      "source": [
        "#Se definen los porcentajes de entrenamiento y validación\n",
        "porcentajeEntrenamiento = 0.8\n",
        "porcentajeValidación = 0.9\n",
        "#Se determinan los datos de entrenamiento, prueba y validación\n",
        "x_entrenamiento, x_prueba, y_entrenamiento, y_prueba = model_selection.train_test_split(X,y,test_size=1-porcentajeEntrenamiento)\n",
        "x_entrenamiento, x_validacion, y_entrenamiento, y_validacion = model_selection.train_test_split(x_entrenamiento,y_entrenamiento,test_size=1-porcentajeValidación)"
      ],
      "execution_count": 0,
      "outputs": []
    },
    {
      "cell_type": "markdown",
      "metadata": {
        "id": "LdEmJ-u-40ws",
        "colab_type": "text"
      },
      "source": [
        "#Se crea la red neuronal\n",
        "\n",
        "\n",
        "1.   La red neuronal se realizará a partir de keras\n",
        "2.   La red va a ser de tipo sequencial, para poder trabajar con diferentes capas, que se encarguen de diferentes funciones.\n",
        "3.   La primera capa es de tipo Conv2D, esto con el fin de especificar que se esta recibiendo una imagen de dimenciones (200,240,3). Tambien se especifica que su activación es de tipo relu, ya que siempre se recomienda hacer pooling justo despues de haber aplicado una capa con no-linealidad.\n",
        "4.   Lo siguiente es utilizar MaxPooling2D, para agrupar la presencia de aquellos patrones que se repiten con mayor frecuencia en cada segmento de la imagen.\n",
        "5.   A continuación se utiliza Dropout, para igualar a 0 un pequeño porcentaje de la información y con esto evitar overfitting en el entrenamiento.\n",
        "6.   Se utiliza flatten para acoplar los datos que salen de la capa dentreada y ajustarlos para que sirvan como entrada de la capa escondida de clasificación que se utiliza.\n",
        "7.   Se establece una capa central para para clasificación y se utiliza una activacion tipo relu, ya que sabemos suele entregar los mejores resultados en clasificación.\n",
        "8.   Nuevamente utilizamos Dropout para evitar overfitting.\n",
        "9.   Ya para terminar se crea una capa se salida con activación softmax para comprimir los nCentral datos obtenidos por la capa de clasificación, en tan solo nFinal datos que corresponderan al npumero de salidas.\n",
        "10.  Por ultimo se realiza la compilación de la red, la cual cuenta con:\n",
        "      1.  Entropia cruzada como función de error, dado que estamos haciendo un clasificador.\n",
        "      2.  Descenso de gradiente estocastico como algoritmo de optimización.\n",
        "      3.  La tasa de aprendisaje se fijo en 0.0005, luego de varias pruebas.\n",
        "      4.  Ademas tambien se indica que debe retornar el porcentaje de aciertos del entrenamiento.\n"
      ]
    },
    {
      "cell_type": "code",
      "metadata": {
        "id": "5nlzoNNo5Axo",
        "colab_type": "code",
        "colab": {}
      },
      "source": [
        "#Función que crea la red neuronal con base en el número de neuronas de cada una de sus capas\n",
        "def crearRed(nInicial, nCentral, nSalida):\n",
        "  #Se crea la red sequencial\n",
        "  RedNeuronal = Sequential()\n",
        "  #Se crea la capa de entrada\n",
        "  RedNeuronal.add(Conv2D(nInicial, kernel_size=(3, 3),activation='relu',padding='same',input_shape=(200, 240, 3)))\n",
        "  #Se realiza una agrupación de datos\n",
        "  RedNeuronal.add(MaxPooling2D())\n",
        "  RedNeuronal.add(MaxPooling2D())\n",
        "  RedNeuronal.add(MaxPooling2D())\n",
        "  RedNeuronal.add(MaxPooling2D())\n",
        "  #Se ajusta los datos para conectarlos a la siguiente capa\n",
        "  RedNeuronal.add(Dropout(0.5))\n",
        "  RedNeuronal.add(Flatten())\n",
        "  #Se crea la capa central de clasificación\n",
        "  RedNeuronal.add(Dense(nCentral, activation='relu')) \n",
        "  RedNeuronal.add(Dropout(0.5)) \n",
        "  #Se crea la capa de salida\n",
        "  RedNeuronal.add(Dense(nSalida, activation='softmax'))\n",
        "  #Se compila la red\n",
        "  tasa = 0.0005\n",
        "  RedNeuronal.compile(loss=keras.losses.categorical_crossentropy, optimizer=keras.optimizers.SGD(lr=tasa,decay=tasa/100), metrics=['accuracy'])\n",
        "  #Se retorna la red creada\n",
        "  return RedNeuronal"
      ],
      "execution_count": 0,
      "outputs": []
    },
    {
      "cell_type": "markdown",
      "metadata": {
        "id": "LxOVgkA-Ic1T",
        "colab_type": "text"
      },
      "source": [
        "#Validación de número de neuronas\n",
        "\n",
        "\n",
        "1.   Se van a realizar pruebas de 10 en 10 en cada una de las capas.\n",
        "2.   Dado que nuestra variable de salida esta restringida a dos posibles salidas debido a la funcion to_categorical(), la ultima capa tambien debera ser de dos salidas, para que la respuesta se pueda comparar con los datos reales.\n",
        "\n"
      ]
    },
    {
      "cell_type": "code",
      "metadata": {
        "id": "_2GZHlv9LHVY",
        "colab_type": "code",
        "colab": {
          "base_uri": "https://localhost:8080/",
          "height": 442
        },
        "outputId": "6917110f-f84a-4933-8194-094076d4df9a"
      },
      "source": [
        "#Se crea el vector con el número de neuronas\n",
        "neuronas = [10, 20, 30, 40, 50]\n",
        "i = 0\n",
        "#Se recorre la capa de entrada\n",
        "while(i<len(neuronas)):\n",
        "  j=0\n",
        "  #Se recorre la capa central\n",
        "  while(j<len(neuronas)):\n",
        "    #Se crea y valida la red neuronal\n",
        "    RedNeuronal = crearRed(neuronas[i], neuronas[j], 2)\n",
        "    fit = RedNeuronal.fit(x_validacion, y_validacion, batch_size=64, epochs=6, verbose=0)\n",
        "    print('[',neuronas[i],',',neuronas[j],', 2 ]:','Tasa de acierto: ',(fit.history['acc']))\n",
        "    j += 1\n",
        "  i += 1"
      ],
      "execution_count": 81,
      "outputs": [
        {
          "output_type": "stream",
          "text": [
            "[ 10 , 10 , 2 ]: Tasa de acierto:  [0.51, 0.575, 0.57, 0.5725, 0.63625, 0.68375]\n",
            "[ 10 , 20 , 2 ]: Tasa de acierto:  [0.51875, 0.62375, 0.69, 0.7125, 0.83125, 0.85]\n",
            "[ 10 , 30 , 2 ]: Tasa de acierto:  [0.49, 0.5525, 0.66875, 0.645, 0.74875, 0.8425]\n",
            "[ 10 , 40 , 2 ]: Tasa de acierto:  [0.57375, 0.6975, 0.7725, 0.82875, 0.87, 0.8925]\n",
            "[ 10 , 50 , 2 ]: Tasa de acierto:  [0.62375, 0.8025, 0.8625, 0.88375, 0.915, 0.945]\n",
            "[ 20 , 10 , 2 ]: Tasa de acierto:  [0.525, 0.635, 0.70125, 0.6575, 0.69875, 0.7175]\n",
            "[ 20 , 20 , 2 ]: Tasa de acierto:  [0.55125, 0.61125, 0.6375, 0.63125, 0.6425, 0.63875]\n",
            "[ 20 , 30 , 2 ]: Tasa de acierto:  [0.51875, 0.625, 0.6425, 0.78375, 0.87875, 0.95375]\n",
            "[ 20 , 40 , 2 ]: Tasa de acierto:  [0.58375, 0.68375, 0.7675, 0.83125, 0.86625, 0.8175]\n",
            "[ 20 , 50 , 2 ]: Tasa de acierto:  [0.49, 0.6825, 0.79625, 0.84125, 0.93125, 0.93875]\n",
            "[ 30 , 10 , 2 ]: Tasa de acierto:  [0.57, 0.62125, 0.68375, 0.64375, 0.7125, 0.66125]\n",
            "[ 30 , 20 , 2 ]: Tasa de acierto:  [0.6575, 0.7825, 0.80875, 0.81875, 0.80875, 0.8075]\n",
            "[ 30 , 30 , 2 ]: Tasa de acierto:  [0.60125, 0.725, 0.75375, 0.8325, 0.9225, 0.95375]\n",
            "[ 30 , 40 , 2 ]: Tasa de acierto:  [0.59125, 0.705, 0.89375, 0.9175, 0.97375, 0.955]\n",
            "[ 30 , 50 , 2 ]: Tasa de acierto:  [0.58, 0.64125, 0.83375, 0.8725, 0.92375, 0.95125]\n",
            "[ 40 , 10 , 2 ]: Tasa de acierto:  [0.6375, 0.76875, 0.66875, 0.74625, 0.78375, 0.74875]\n",
            "[ 40 , 20 , 2 ]: Tasa de acierto:  [0.6225, 0.87125, 0.8925, 0.9075, 0.94, 0.965]\n",
            "[ 40 , 30 , 2 ]: Tasa de acierto:  [0.6375, 0.70375, 0.82625, 0.8375, 0.915, 0.96125]\n",
            "[ 40 , 40 , 2 ]: Tasa de acierto:  [0.5725, 0.725, 0.81, 0.86375, 0.8725, 0.9175]\n",
            "[ 40 , 50 , 2 ]: Tasa de acierto:  [0.60875, 0.6425, 0.72, 0.71875, 0.7875, 0.82]\n",
            "[ 50 , 10 , 2 ]: Tasa de acierto:  [0.6025, 0.55125, 0.58375, 0.50875, 0.54875, 0.5425]\n",
            "[ 50 , 20 , 2 ]: Tasa de acierto:  [0.55125, 0.70375, 0.87375, 0.9, 0.94375, 0.95375]\n",
            "[ 50 , 30 , 2 ]: Tasa de acierto:  [0.6375, 0.77375, 0.92125, 0.975, 0.97375, 0.98625]\n",
            "[ 50 , 40 , 2 ]: Tasa de acierto:  [0.69625, 0.88875, 0.97125, 0.97125, 0.9875, 0.98]\n",
            "[ 50 , 50 , 2 ]: Tasa de acierto:  [0.68375, 0.85375, 0.935, 0.96125, 0.96375, 0.99]\n"
          ],
          "name": "stdout"
        }
      ]
    },
    {
      "cell_type": "markdown",
      "metadata": {
        "id": "mNqqU-HhaqYJ",
        "colab_type": "text"
      },
      "source": [
        "#Se selecciona la red neuronal a crear\n",
        "\n",
        "1.   Se va a tomar la red con las neuronas [50, 50, 2], dado que se obxervaron muy buenos resultados para este tipo de red.\n",
        "2.   Se entrena la red con los datos de en trenamiento y esto luego de 5 epochs.\n",
        "3.   Se guarda la red obtenida.\n",
        "\n"
      ]
    },
    {
      "cell_type": "code",
      "metadata": {
        "id": "elwgtekpbUHH",
        "colab_type": "code",
        "colab": {
          "base_uri": "https://localhost:8080/",
          "height": 231
        },
        "outputId": "9d65509d-4ec6-4553-948f-ee9d0fcda7b6"
      },
      "source": [
        "#Se crea la red neuronal\n",
        "RedNeuronal = crearRed(50, 50, 2)\n",
        "#Se muestra como esta compuesta la red\n",
        "RedNeuronal.summary()\n",
        "#Se entrena la red\n",
        "fit = RedNeuronal.fit(x_entrenamiento, y_entrenamiento, batch_size=64, epochs=5, verbose=1)\n",
        "#Se guarda la red creada\n",
        "RedNeuronal.save(\"CasoSencillo.h5py\")"
      ],
      "execution_count": 1,
      "outputs": [
        {
          "output_type": "error",
          "ename": "NameError",
          "evalue": "ignored",
          "traceback": [
            "\u001b[0;31m---------------------------------------------------------------------------\u001b[0m",
            "\u001b[0;31mNameError\u001b[0m                                 Traceback (most recent call last)",
            "\u001b[0;32m<ipython-input-1-fd078ecc1560>\u001b[0m in \u001b[0;36m<module>\u001b[0;34m()\u001b[0m\n\u001b[0;32m----> 1\u001b[0;31m \u001b[0mRedNeuronal\u001b[0m \u001b[0;34m=\u001b[0m \u001b[0mcrearRed\u001b[0m\u001b[0;34m(\u001b[0m\u001b[0;36m50\u001b[0m\u001b[0;34m,\u001b[0m \u001b[0;36m50\u001b[0m\u001b[0;34m,\u001b[0m \u001b[0;36m2\u001b[0m\u001b[0;34m)\u001b[0m\u001b[0;34m\u001b[0m\u001b[0;34m\u001b[0m\u001b[0m\n\u001b[0m\u001b[1;32m      2\u001b[0m \u001b[0;31m#Se muestra como esta compuesta la red\u001b[0m\u001b[0;34m\u001b[0m\u001b[0;34m\u001b[0m\u001b[0;34m\u001b[0m\u001b[0m\n\u001b[1;32m      3\u001b[0m \u001b[0mRedNeuronal\u001b[0m\u001b[0;34m.\u001b[0m\u001b[0msummary\u001b[0m\u001b[0;34m(\u001b[0m\u001b[0;34m)\u001b[0m\u001b[0;34m\u001b[0m\u001b[0;34m\u001b[0m\u001b[0m\n\u001b[1;32m      4\u001b[0m \u001b[0;31m#Se entrena la red\u001b[0m\u001b[0;34m\u001b[0m\u001b[0;34m\u001b[0m\u001b[0;34m\u001b[0m\u001b[0m\n\u001b[1;32m      5\u001b[0m \u001b[0mfit\u001b[0m \u001b[0;34m=\u001b[0m \u001b[0mRedNeuronal\u001b[0m\u001b[0;34m.\u001b[0m\u001b[0mfit\u001b[0m\u001b[0;34m(\u001b[0m\u001b[0mx_entrenamiento\u001b[0m\u001b[0;34m,\u001b[0m \u001b[0my_entrenamiento\u001b[0m\u001b[0;34m,\u001b[0m \u001b[0mbatch_size\u001b[0m\u001b[0;34m=\u001b[0m\u001b[0;36m64\u001b[0m\u001b[0;34m,\u001b[0m \u001b[0mepochs\u001b[0m\u001b[0;34m=\u001b[0m\u001b[0;36m5\u001b[0m\u001b[0;34m,\u001b[0m \u001b[0mverbose\u001b[0m\u001b[0;34m=\u001b[0m\u001b[0;36m1\u001b[0m\u001b[0;34m)\u001b[0m\u001b[0;34m\u001b[0m\u001b[0;34m\u001b[0m\u001b[0m\n",
            "\u001b[0;31mNameError\u001b[0m: name 'crearRed' is not defined"
          ]
        }
      ]
    },
    {
      "cell_type": "markdown",
      "metadata": {
        "id": "6Zd2LGHuZC-e",
        "colab_type": "text"
      },
      "source": [
        "#Evaluación de la red neuronal\n",
        "Una vez evaluado el error empirico y rteniendo en cuenta el número de datos \\\\\n",
        "Se observa que el indice de confianza es :\n",
        "##$(1-\\delta) = (1 - 2/\\exp(|S{\\small text}|{ \\cdot 2\\varepsilon^2 }))$"
      ]
    },
    {
      "cell_type": "code",
      "metadata": {
        "id": "9NAUJW3NZUs_",
        "colab_type": "code",
        "colab": {}
      },
      "source": [
        "#Se prueba la red neuronal\n",
        "prueba = RedNeuronal.evaluate(x_prueba, y_prueba, verbose=0)\n",
        "#Se calcula el erro empirico, numero de datos y indice de confianza\n",
        "E_empirico = 1 - [prueba.history['acc']]\n",
        "N_datos = y_prueba.shape[0]\n",
        "confianza = 1 - 2/math.exp(N_datos*2*(E_empirico**2))\n",
        "print('Número de datos de prueba = ' + str(N_datos))\n",
        "print('Error empirico = ' + str(E_empirico))\n",
        "print('indice de confianza = ' + str(confianza))"
      ],
      "execution_count": 0,
      "outputs": []
    }
  ]
}